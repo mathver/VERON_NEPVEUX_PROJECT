{
 "cells": [
  {
   "cell_type": "code",
   "execution_count": 107,
   "metadata": {},
   "outputs": [],
   "source": [
    "from serde import serde\n",
    "from serde.json import to_json, from_json\n",
    "from dataclasses import dataclass\n",
    "from time import sleep\n",
    "from scrapping import Voiture"
   ]
  },
  {
   "cell_type": "code",
   "execution_count": null,
   "metadata": {},
   "outputs": [],
   "source": []
  },
  {
   "attachments": {},
   "cell_type": "markdown",
   "metadata": {},
   "source": [
    "# Récuperation du json et conversion en quelque chose d'utilisable"
   ]
  },
  {
   "cell_type": "code",
   "execution_count": 108,
   "metadata": {},
   "outputs": [],
   "source": [
    "with open(\"donnees.json\", \"r\") as fichier:\n",
    "    contenu_fichier = fichier.read()"
   ]
  },
  {
   "cell_type": "code",
   "execution_count": 109,
   "metadata": {},
   "outputs": [
    {
     "data": {
      "text/plain": [
       "'[{\"modele\":\"208\",\"carburant\":\"Essence\",\"prix\":17990,\"kilometrage\":8556,\"garantie_kilometrage\":\"n\",\"boite_de_vitesse\":\"Manuelle\",\"transmission\":\"2\",\"couleur\":\"Blanc\",\"garantie\":\"SPOTICAR PREMIUM\",\"date_mise_circulation\":2022,\"puissance\":75,\"silhouette\":\"Citadine\",\"nb_places\":5,\"utilisation_prec\":\"Ex-Loueur\",\"puissance_fiscale\":4,\"critair\":\"1\",\"ptac\":1510,\"nb_portes\":5},{\"modele\":\"RIFTER\",\"carburant\":\"Diesel\",\"prix\":27490,\"kilometrage\":51739,\"garantie_kilometrage\":\"g\",\"boite_de_vitesse\":\"Manuelle\",\"transmission\":\"2\",\"couleur\":\"Brun\",\"garantie\":\"SPOTICAR PREMIUM\",\"date_mise_circulation\":2020,\"puissance\":131,\"silhouette\":\"Familiale\",\"nb_places\":5,\"utilisation_prec\":\"Ex-Particulier\",\"puissance_fiscale\":7,\"critair\":\"2\",\"ptac\":2135,\"nb_portes\":5},{\"modele\":\"208\",\"carburant\":\"Essence\",\"prix\":18970,\"kilometrage\":40071,\"garantie_kilometrage\":\"n\",\"boite_de_vitesse\":\"Manuelle\",\"transmission\":\"2\",\"couleur\":\"Gris\",\"garantie\":\"SPOTICAR PREMIUM\",\"date_mise_circulation\":2021,\"puissance\":102,\"silhouette\":\"Citadine\",\"nb_places\":5,\"utilisation_prec\":\"Ex-Loueur\",\"puissance_fiscale\":5,\"critair\":\"1\",\"ptac\":1595,\"nb_portes\":5},{\"modele\":\"2008\",\"carburant\":\"Essence\",\"prix\":26970,\"kilometrage\":15512,\"garantie_kilometrage\":\"n\",\"boite_de_vitesse\":\"Automatique\",\"transmission\":\"2\",\"couleur\":\"Gris\",\"garantie\":\"SPOTICAR PREMIUM\",\"date_mise_circulation\":2021,\"puissance\":131,\"silhouette\":\"SUV-4x4\",\"nb_places\":5,\"utilisation_prec\":\"Ex-Loueur\",\"puissance_fiscale\":7,\"critair\":\"1\",\"ptac\":1752,\"nb_portes\":5},{\"modele\":\"3008\",\"carburant\":\"Diesel\",\"prix\":22970,\"kilometrage\":73499,\"garantie_kilometrage\":\"n\",\"boite_de_vitesse\":\"Manuelle\",\"transmission\":\"2\",\"couleur\":\"Rouge\",\"garantie\":\"SPOTICAR PREMIUM\",\"date_mise_circulation\":2019,\"puissance\":130,\"silhouette\":\"SUV-4x4\",\"nb_places\":5,\"utilisation_prec\":\"Ex-Loueur\",\"puissance_fiscale\":6,\"critair\":\"2\",\"ptac\":1970,\"nb_portes\":5},{\"modele\":\"208\",\"carburant\":\"Essence\",\"prix\":21470,\"kilometrage\":25086,\"garantie_kilometrage\":\"n\",\"boite_de_vitesse\":\"Automatique\",\"transmission\":\"2\",\"couleur\":\"Gris\",\"garantie\":\"SPOTICAR PREMIUM\",\"date_mise_circulation\":2022,\"puissance\":102,\"silhouette\":\"Citadine\",\"nb_places\":5,\"utilisation_prec\":\"Ex-Loueur\",\"puissance_fiscale\":5,\"critair\":\"1\",\"ptac\":1625,\"nb_portes\":5},{\"modele\":\"208\",\"carburant\":\"Essence\",\"prix\":23770,\"kilometrage\":24416,\"garantie_kilometrage\":\"n\",\"boite_de_vitesse\":\"Automatique\",\"transmission\":\"2\",\"couleur\":\"Gris\",\"garantie\":\"SPOTICAR PREMIUM\",\"date_mise_circulation\":2021,\"puissance\":130,\"silhouette\":\"Citadine\",\"nb_places\":5,\"utilisation_prec\":\"Ex-Loueur\",\"puissance_fiscale\":7,\"critair\":\"1\",\"ptac\":1630,\"nb_portes\":5},{\"modele\":\"208\",\"carburant\":\"Diesel\",\"prix\":20470,\"kilometrage\":30583,\"garantie_kilometrage\":\"n\",\"boite_de_vitesse\":\"Manuelle\",\"transmission\":\"2\",\"couleur\":\"Noir\",\"garantie\":\"SPOTICAR PREMIUM\",\"date_mise_circulation\":2021,\"puissance\":102,\"silhouette\":\"Citadine\",\"nb_places\":5,\"utilisation_prec\":\"Ex-Loueur\",\"puissance_fiscale\":5,\"critair\":\"2\",\"ptac\":1645,\"nb_portes\":5},{\"modele\":\"208\",\"carburant\":\"Essence\",\"prix\":17970,\"kilometrage\":49727,\"garantie_kilometrage\":\"n\",\"boite_de_vitesse\":\"Manuelle\",\"transmission\":\"2\",\"couleur\":\"Gris\",\"garantie\":\"SPOTICAR PREMIUM\",\"date_mise_circulation\":2021,\"puissance\":102,\"silhouette\":\"Citadine\",\"nb_places\":5,\"utilisation_prec\":\"Ex-Loueur\",\"puissance_fiscale\":5,\"critair\":\"1\",\"ptac\":1595,\"nb_portes\":5},{\"modele\":\"208\",\"carburant\":\"Essence\",\"prix\":22770,\"kilometrage\":19165,\"garantie_kilometrage\":\"n\",\"boite_de_vitesse\":\"Automatique\",\"transmission\":\"2\",\"couleur\":\"Jaune\",\"garantie\":\"SPOTICAR PREMIUM\",\"date_mise_circulation\":2020,\"puissance\":130,\"silhouette\":\"Citadine\",\"nb_places\":5,\"utilisation_prec\":\"Ex-Loueur\",\"puissance_fiscale\":7,\"critair\":\"1\",\"ptac\":1630,\"nb_portes\":5},{\"modele\":\"208\",\"carburant\":\"Essence\",\"prix\":24470,\"kilometrage\":8126,\"garantie_kilometrage\":\"n\",\"boite_de_vitesse\":\"Manuelle\",\"transmission\":\"2\",\"couleur\":\"Gris\",\"garantie\":\"SPOTICAR PREMIUM\",\"date_mise_circulation\":2022,\"puissance\":102,\"silhouette\":\"Citadine\",\"nb_places\":5,\"utilisation_prec\":\"Ex-Loueur\",\"puissance_fiscale\":5,\"critair\":\"1\",\"ptac\":1595,\"nb_portes\":5},{\"modele\":\"208\",\"carburant\":\"Essence\",\"prix\":22470,\"kilometrage\":16818,\"garantie_kilometrage\":\"n\",\"boite_de_vitesse\":\"Automatique\",\"transmission\":\"2\",\"couleur\":\"Blanc\",\"garantie\":\"SPOTICAR PREMIUM\",\"date_mise_circulation\":2021,\"puissance\":102,\"silhouette\":\"Citadine\",\"nb_places\":5,\"utilisation_prec\":\"Ex-Loueur\",\"puissance_fiscale\":5,\"critair\":\"1\",\"ptac\":1625,\"nb_portes\":5},{\"modele\":\"308\",\"carburant\":\"Essence\",\"prix\":30970,\"kilometrage\":21919,\"garantie_kilometrage\":\"n\",\"boite_de_vitesse\":\"Automatique\",\"transmission\":\"2\",\"couleur\":\"Vert\",\"garantie\":\"SPOTICAR PREMIUM\",\"date_mise_circulation\":2021,\"puissance\":131,\"silhouette\":\"Berline\",\"nb_places\":5,\"utilisation_prec\":\"Véhicule de direction\",\"puissance_fiscale\":7,\"critair\":\"1\",\"ptac\":1880,\"nb_portes\":5},{\"modele\":\"208\",\"carburant\":\"Essence\",\"prix\":17970,\"kilometrage\":45800,\"garantie_kilometrage\":\"n\",\"boite_de_vitesse\":\"Manuelle\",\"transmission\":\"2\",\"couleur\":\"Noir\",\"garantie\":\"SPOTICAR PREMIUM\",\"date_mise_circulation\":2021,\"puissance\":102,\"silhouette\":\"Citadine\",\"nb_places\":5,\"utilisation_prec\":\"Ex-Loueur\",\"puissance_fiscale\":5,\"critair\":\"1\",\"ptac\":1595,\"nb_portes\":5},{\"modele\":\"2008\",\"carburant\":\"Essence\",\"prix\":27470,\"kilometrage\":16793,\"garantie_kilometrage\":\"n\",\"boite_de_vitesse\":\"Automatique\",\"transmission\":\"2\",\"couleur\":\"Gris\",\"garantie\":\"SPOTICAR PREMIUM\",\"date_mise_circulation\":2021,\"puissance\":131,\"silhouette\":\"SUV-4x4\",\"nb_places\":5,\"utilisation_prec\":\"Ex-Loueur\",\"puissance_fiscale\":7,\"critair\":\"1\",\"ptac\":1752,\"nb_portes\":5},{\"modele\":\"208\",\"carburant\":\"Essence\",\"prix\":22470,\"kilometrage\":19281,\"garantie_kilometrage\":\"n\",\"boite_de_vitesse\":\"Automatique\",\"transmission\":\"2\",\"couleur\":\"Gris\",\"garantie\":\"SPOTICAR PREMIUM\",\"date_mise_circulation\":2022,\"puissance\":102,\"silhouette\":\"Citadine\",\"nb_places\":5,\"utilisation_prec\":\"Ex-Loueur\",\"puissance_fiscale\":5,\"critair\":\"1\",\"ptac\":1625,\"nb_portes\":5},{\"modele\":\"5008\",\"carburant\":\"Diesel\",\"prix\":24970,\"kilometrage\":99000,\"garantie_kilometrage\":\"n\",\"boite_de_vitesse\":\"Automatique\",\"transmission\":\"2\",\"couleur\":\"Gris\",\"garantie\":\"SPOTICAR PREMIUM\",\"date_mise_circulation\":2019,\"puissance\":130,\"silhouette\":\"SUV-4x4\",\"nb_places\":7,\"utilisation_prec\":\"Ex-Loueur\",\"puissance_fiscale\":6,\"critair\":\"2\",\"ptac\":2200,\"nb_portes\":5},{\"modele\":\"2008\",\"carburant\":\"Diesel\",\"prix\":24970,\"kilometrage\":22422,\"garantie_kilometrage\":\"n\",\"boite_de_vitesse\":\"Manuelle\",\"transmission\":\"2\",\"couleur\":\"Rouge\",\"garantie\":\"SPOTICAR PREMIUM\",\"date_mise_circulation\":2021,\"puissance\":109,\"silhouette\":\"SUV-4x4\",\"nb_places\":5,\"utilisation_prec\":\"Ex-Loueur\",\"puissance_fiscale\":6,\"critair\":\"2\",\"ptac\":1730,\"nb_portes\":5},{\"modele\":\"2008\",\"carburant\":\"Essence\",\"prix\":24970,\"kilometrage\":33219,\"garantie_kilometrage\":\"n\",\"boite_de_vitesse\":\"Automatique\",\"transmission\":\"2\",\"couleur\":\"Gris\",\"garantie\":\"SPOTICAR PREMIUM\",\"date_mise_circulation\":2021,\"puissance\":131,\"silhouette\":\"SUV-4x4\",\"nb_places\":5,\"utilisation_prec\":\"Véhicule de direction\",\"puissance_fiscale\":7,\"critair\":\"1\",\"ptac\":1752,\"nb_portes\":5},{\"modele\":\"3008\",\"carburant\":\"Diesel\",\"prix\":27970,\"kilometrage\":59795,\"garantie_kilometrage\":\"n\",\"boite_de_vitesse\":\"Manuelle\",\"transmission\":\"2\",\"couleur\":\"Rouge\",\"garantie\":\"SPOTICAR PREMIUM\",\"date_mise_circulation\":2020,\"puissance\":130,\"silhouette\":\"SUV-4x4\",\"nb_places\":5,\"utilisation_prec\":\"Véhicule de direction\",\"puissance_fiscale\":7,\"critair\":\"2\",\"ptac\":1970,\"nb_portes\":5},{\"modele\":\"208\",\"carburant\":\"Essence\",\"prix\":28470,\"kilometrage\":10,\"garantie_kilometrage\":\"g\",\"boite_de_vitesse\":\"Automatique\",\"transmission\":\"2\",\"couleur\":\"Rouge\",\"garantie\":\"SPOTICAR PREMIUM\",\"date_mise_circulation\":2022,\"puissance\":102,\"silhouette\":\"Citadine\",\"nb_places\":5,\"utilisation_prec\":\"Véhicule de direction\",\"puissance_fiscale\":5,\"critair\":\"1\",\"ptac\":1625,\"nb_portes\":5},{\"modele\":\"208\",\"carburant\":\"Essence\",\"prix\":21670,\"kilometrage\":8436,\"garantie_kilometrage\":\"n\",\"boite_de_vitesse\":\"Automatique\",\"transmission\":\"2\",\"couleur\":\"Rouge\",\"garantie\":\"SPOTICAR PREMIUM\",\"date_mise_circulation\":2022,\"puissance\":102,\"silhouette\":\"Citadine\",\"nb_places\":5,\"utilisation_prec\":\"Ex-Loueur\",\"puissance_fiscale\":5,\"critair\":\"1\",\"ptac\":1625,\"nb_portes\":5},{\"modele\":\"2008\",\"carburant\":\"Diesel\",\"prix\":26970,\"kilometrage\":26370,\"garantie_kilometrage\":\"n\",\"boite_de_vitesse\":\"Automatique\",\"transmission\":\"2\",\"couleur\":\"Gris\",\"garantie\":\"SPOTICAR PREMIUM\",\"date_mise_circulation\":2021,\"puissance\":131,\"silhouette\":\"SUV-4x4\",\"nb_places\":5,\"utilisation_prec\":\"Ex-Loueur\",\"puissance_fiscale\":7,\"critair\":\"2\",\"ptac\":1770,\"nb_portes\":5},{\"modele\":\"208\",\"carburant\":\"Essence\",\"prix\":22970,\"kilometrage\":10,\"garantie_kilometrage\":\"g\",\"boite_de_vitesse\":\"Automatique\",\"transmission\":\"2\",\"couleur\":\"Noir\",\"garantie\":\"SPOTICAR PREMIUM\",\"date_mise_circulation\":2022,\"puissance\":102,\"silhouette\":\"Citadine\",\"nb_places\":5,\"utilisation_prec\":\"Véhicule de direction\",\"puissance_fiscale\":5,\"critair\":\"1\",\"ptac\":1625,\"nb_portes\":5},{\"modele\":\"2008\",\"carburant\":\"Diesel\",\"prix\":26970,\"kilometrage\":31037,\"garantie_kilometrage\":\"n\",\"boite_de_vitesse\":\"Automatique\",\"transmission\":\"2\",\"couleur\":\"Noir\",\"garantie\":\"SPOTICAR PREMIUM\",\"date_mise_circulation\":2021,\"puissance\":131,\"silhouette\":\"SUV-4x4\",\"nb_places\":5,\"utilisation_prec\":\"Ex-Loueur\",\"puissance_fiscale\":7,\"critair\":\"2\",\"ptac\":1770,\"nb_portes\":5},{\"modele\":\"208\",\"carburant\":\"Essence\",\"prix\":22470,\"kilometrage\":19388,\"garantie_kilometrage\":\"n\",\"boite_de_vitesse\":\"Automatique\",\"transmission\":\"2\",\"couleur\":\"Gris\",\"garantie\":\"SPOTICAR PREMIUM\",\"date_mise_circulation\":2022,\"puissance\":102,\"silhouette\":\"Citadine\",\"nb_places\":5,\"utilisation_prec\":\"Ex-Loueur\",\"puissance_fiscale\":5,\"critair\":\"1\",\"ptac\":1625,\"nb_portes\":5},{\"modele\":\"208\",\"carburant\":\"Essence\",\"prix\":19970,\"kilometrage\":10212,\"garantie_kilometrage\":\"n\",\"boite_de_vitesse\":\"Manuelle\",\"transmission\":\"2\",\"couleur\":\"Gris\",\"garantie\":\"SPOTICAR PREMIUM\",\"date_mise_circulation\":2022,\"puissance\":102,\"silhouette\":\"Citadine\",\"nb_places\":5,\"utilisation_prec\":\"Ex-Loueur\",\"puissance_fiscale\":5,\"critair\":\"1\",\"ptac\":1595,\"nb_portes\":5},{\"modele\":\"508 SW\",\"carburant\":\"Hybride rechargeable\",\"prix\":43970,\"kilometrage\":31335,\"garantie_kilometrage\":\"n\",\"boite_de_vitesse\":\"Automatique\",\"transmission\":\"2\",\"couleur\":\"Bleu\",\"garantie\":\"SPOTICAR PREMIUM\",\"date_mise_circulation\":2021,\"puissance\":181,\"silhouette\":\"Break\",\"nb_places\":5,\"utilisation_prec\":\"Ex-Particulier\",\"puissance_fiscale\":10,\"critair\":\"1\",\"ptac\":2290,\"nb_portes\":5},{\"modele\":\"2008\",\"carburant\":\"Diesel\",\"prix\":24970,\"kilometrage\":22280,\"garantie_kilometrage\":\"n\",\"boite_de_vitesse\":\"Manuelle\",\"transmission\":\"2\",\"couleur\":\"Gris\",\"garantie\":\"SPOTICAR PREMIUM\",\"date_mise_circulation\":2021,\"puissance\":109,\"silhouette\":\"SUV-4x4\",\"nb_places\":5,\"utilisation_prec\":\"Ex-Loueur\",\"puissance_fiscale\":6,\"critair\":\"2\",\"ptac\":1730,\"nb_portes\":5},{\"modele\":\"3008\",\"carburant\":\"Hybride rechargeable\",\"prix\":45470,\"kilometrage\":10,\"garantie_kilometrage\":\"g\",\"boite_de_vitesse\":\"Automatique\",\"transmission\":\"2\",\"couleur\":\"Bleu\",\"garantie\":\"SPOTICAR PREMIUM\",\"date_mise_circulation\":2022,\"puissance\":181,\"silhouette\":\"SUV-4x4\",\"nb_places\":5,\"utilisation_prec\":\"Véhicule de direction\",\"puissance_fiscale\":10,\"critair\":\"1\",\"ptac\":2257,\"nb_portes\":5},{\"modele\":\"208\",\"carburant\":\"Essence\",\"prix\":28470,\"kilometrage\":10,\"garantie_kilometrage\":\"g\",\"boite_de_vitesse\":\"Automatique\",\"transmission\":\"2\",\"couleur\":\"Bleu\",\"garantie\":\"SPOTICAR PREMIUM\",\"date_mise_circulation\":2022,\"puissance\":102,\"silhouette\":\"Citadine\",\"nb_places\":5,\"utilisation_prec\":\"Véhicule de direction\",\"puissance_fiscale\":5,\"critair\":\"1\",\"ptac\":1625,\"nb_portes\":5},{\"modele\":\"208\",\"carburant\":\"Electrique\",\"prix\":29970,\"kilometrage\":3000,\"garantie_kilometrage\":\"g\",\"boite_de_vitesse\":\"Automatique\",\"transmission\":\"2\",\"couleur\":\"Gris\",\"garantie\":\"SPOTICAR PREMIUM\",\"date_mise_circulation\":2022,\"puissance\":136,\"silhouette\":\"Citadine\",\"nb_places\":5,\"utilisation_prec\":\"Véhicule de direction\",\"puissance_fiscale\":4,\"critair\":\"0\",\"ptac\":1910,\"nb_portes\":5},{\"modele\":\"3008\",\"carburant\":\"Hybride rechargeable\",\"prix\":38470,\"kilometrage\":21625,\"garantie_kilometrage\":\"n\",\"boite_de_vitesse\":\"Automatique\",\"transmission\":\"2\",\"couleur\":\"Bleu\",\"garantie\":\"SPOTICAR PREMIUM\",\"date_mise_circulation\":2021,\"puissance\":181,\"silhouette\":\"SUV-4x4\",\"nb_places\":5,\"utilisation_prec\":\"Ex-Société\",\"puissance_fiscale\":10,\"critair\":\"1\",\"ptac\":2257,\"nb_portes\":5},{\"modele\":\"EXPERT\",\"carburant\":\"Diesel\",\"prix\":29470,\"kilometrage\":10,\"garantie_kilometrage\":\"g\",\"boite_de_vitesse\":\"Manuelle\",\"transmission\":\"2\",\"couleur\":\"Blanc\",\"garantie\":\"SPOTICAR PREMIUM\",\"date_mise_circulation\":2022,\"puissance\":120,\"silhouette\":\"Utilitaire\",\"nb_places\":3,\"utilisation_prec\":\"Véhicule de direction\",\"puissance_fiscale\":5,\"critair\":\"2\",\"ptac\":2790,\"nb_portes\":\"NA\"},{\"modele\":\"208\",\"carburant\":\"Essence\",\"prix\":27470,\"kilometrage\":10,\"garantie_kilometrage\":\"g\",\"boite_de_vitesse\":\"Automatique\",\"transmission\":\"2\",\"couleur\":\"Gris\",\"garantie\":\"SPOTICAR PREMIUM\",\"date_mise_circulation\":2022,\"puissance\":102,\"silhouette\":\"Citadine\",\"nb_places\":5,\"utilisation_prec\":\"Véhicule de direction\",\"puissance_fiscale\":5,\"critair\":\"1\",\"ptac\":1625,\"nb_portes\":5},{\"modele\":\"208\",\"carburant\":\"Essence\",\"prix\":20970,\"kilometrage\":15713,\"garantie_kilometrage\":\"n\",\"boite_de_vitesse\":\"Manuelle\",\"transmission\":\"2\",\"couleur\":\"Gris\",\"garantie\":\"SPOTICAR PREMIUM\",\"date_mise_circulation\":2022,\"puissance\":102,\"silhouette\":\"Citadine\",\"nb_places\":5,\"utilisation_prec\":\"Ex-Loueur\",\"puissance_fiscale\":5,\"critair\":\"1\",\"ptac\":1595,\"nb_portes\":5},{\"modele\":\"2008\",\"carburant\":\"Diesel\",\"prix\":24970,\"kilometrage\":10000,\"garantie_kilometrage\":\"n\",\"boite_de_vitesse\":\"Manuelle\",\"transmission\":\"2\",\"couleur\":\"Gris\",\"garantie\":\"SPOTICAR PREMIUM\",\"date_mise_circulation\":2021,\"puissance\":109,\"silhouette\":\"SUV-4x4\",\"nb_places\":5,\"utilisation_prec\":\"Ex-Loueur\",\"puissance_fiscale\":6,\"critair\":\"2\",\"ptac\":1730,\"nb_portes\":5},{\"modele\":\"208\",\"carburant\":\"Essence\",\"prix\":20770,\"kilometrage\":23199,\"garantie_kilometrage\":\"n\",\"boite_de_vitesse\":\"Manuelle\",\"transmission\":\"2\",\"couleur\":\"Blanc\",\"garantie\":\"SPOTICAR PREMIUM\",\"date_mise_circulation\":2021,\"puissance\":102,\"silhouette\":\"Citadine\",\"nb_places\":5,\"utilisation_prec\":\"Ex-Loueur\",\"puissance_fiscale\":5,\"critair\":\"1\",\"ptac\":1595,\"nb_portes\":5},{\"modele\":\"308\",\"carburant\":\"Essence\",\"prix\":17470,\"kilometrage\":51640,\"garantie_kilometrage\":\"n\",\"boite_de_vitesse\":\"Manuelle\",\"transmission\":\"2\",\"couleur\":\"Blanc\",\"garantie\":\"SPOTICAR PREMIUM\",\"date_mise_circulation\":2020,\"puissance\":131,\"silhouette\":\"Berline\",\"nb_places\":5,\"utilisation_prec\":\"Ex-Import\",\"puissance_fiscale\":7,\"critair\":\"1\",\"ptac\":1790,\"nb_portes\":5},{\"modele\":\"2008\",\"carburant\":\"Diesel\",\"prix\":26970,\"kilometrage\":25000,\"garantie_kilometrage\":\"n\",\"boite_de_vitesse\":\"Automatique\",\"transmission\":\"2\",\"couleur\":\"Gris\",\"garantie\":\"SPOTICAR PREMIUM\",\"date_mise_circulation\":2021,\"puissance\":131,\"silhouette\":\"SUV-4x4\",\"nb_places\":5,\"utilisation_prec\":\"Ex-Loueur\",\"puissance_fiscale\":7,\"critair\":\"2\",\"ptac\":1770,\"nb_portes\":5},{\"modele\":\"3008\",\"carburant\":\"Diesel\",\"prix\":29470,\"kilometrage\":75000,\"garantie_kilometrage\":\"g\",\"boite_de_vitesse\":\"Automatique\",\"transmission\":\"2\",\"couleur\":\"Rouge\",\"garantie\":\"SPOTICAR PREMIUM\",\"date_mise_circulation\":2019,\"puissance\":181,\"silhouette\":\"SUV-4x4\",\"nb_places\":5,\"utilisation_prec\":\"Ex-Loueur\",\"puissance_fiscale\":10,\"critair\":\"2\",\"ptac\":2090,\"nb_portes\":5},{\"modele\":\"2008\",\"carburant\":\"Essence\",\"prix\":28970,\"kilometrage\":3000,\"garantie_kilometrage\":\"n\",\"boite_de_vitesse\":\"Automatique\",\"transmission\":\"2\",\"couleur\":\"Blanc\",\"garantie\":\"SPOTICAR PREMIUM\",\"date_mise_circulation\":2022,\"puissance\":131,\"silhouette\":\"SUV-4x4\",\"nb_places\":5,\"utilisation_prec\":\"Véhicule de direction\",\"puissance_fiscale\":7,\"critair\":\"1\",\"ptac\":1752,\"nb_portes\":5},{\"modele\":\"2008\",\"carburant\":\"Diesel\",\"prix\":31470,\"kilometrage\":9461,\"garantie_kilometrage\":\"n\",\"boite_de_vitesse\":\"Automatique\",\"transmission\":\"2\",\"couleur\":\"Noir\",\"garantie\":\"SPOTICAR PREMIUM\",\"date_mise_circulation\":2022,\"puissance\":131,\"silhouette\":\"SUV-4x4\",\"nb_places\":5,\"utilisation_prec\":\"Ex-Loueur\",\"puissance_fiscale\":7,\"critair\":\"2\",\"ptac\":1770,\"nb_portes\":5},{\"modele\":\"3008\",\"carburant\":\"Diesel\",\"prix\":31970,\"kilometrage\":44500,\"garantie_kilometrage\":\"n\",\"boite_de_vitesse\":\"Automatique\",\"transmission\":\"2\",\"couleur\":\"Gris\",\"garantie\":\"SPOTICAR PREMIUM\",\"date_mise_circulation\":2021,\"puissance\":131,\"silhouette\":\"SUV-4x4\",\"nb_places\":5,\"utilisation_prec\":\"NA\",\"puissance_fiscale\":7,\"critair\":\"2\",\"ptac\":2000,\"nb_portes\":5},{\"modele\":\"2008\",\"carburant\":\"Electrique\",\"prix\":37970,\"kilometrage\":3000,\"garantie_kilometrage\":\"g\",\"boite_de_vitesse\":\"Automatique\",\"transmission\":\"2\",\"couleur\":\"Rouge\",\"garantie\":\"SPOTICAR PREMIUM\",\"date_mise_circulation\":2022,\"puissance\":136,\"silhouette\":\"SUV-4x4\",\"nb_places\":5,\"utilisation_prec\":\"Véhicule de direction\",\"puissance_fiscale\":4,\"critair\":\"0\",\"ptac\":2030,\"nb_portes\":5},{\"modele\":\"3008\",\"carburant\":\"Essence\",\"prix\":36770,\"kilometrage\":33000,\"garantie_kilometrage\":\"n\",\"boite_de_vitesse\":\"Automatique\",\"transmission\":\"2\",\"couleur\":\"Noir\",\"garantie\":\"SPOTICAR PREMIUM\",\"date_mise_circulation\":2021,\"puissance\":131,\"silhouette\":\"SUV-4x4\",\"nb_places\":5,\"utilisation_prec\":\"Ex-Loueur\",\"puissance_fiscale\":7,\"critair\":\"1\",\"ptac\":1940,\"nb_portes\":5},{\"modele\":\"3008\",\"carburant\":\"Essence\",\"prix\":21970,\"kilometrage\":77125,\"garantie_kilometrage\":\"n\",\"boite_de_vitesse\":\"Manuelle\",\"transmission\":\"2\",\"couleur\":\"Noir\",\"garantie\":\"SPOTICAR PREMIUM\",\"date_mise_circulation\":2019,\"puissance\":131,\"silhouette\":\"SUV-4x4\",\"nb_places\":5,\"utilisation_prec\":\"Ex-Loueur\",\"puissance_fiscale\":7,\"critair\":\"1\",\"ptac\":1910,\"nb_portes\":5},{\"modele\":\"2008\",\"carburant\":\"Diesel\",\"prix\":20970,\"kilometrage\":48997,\"garantie_kilometrage\":\"n\",\"boite_de_vitesse\":\"Manuelle\",\"transmission\":\"2\",\"couleur\":\"Noir\",\"garantie\":\"SPOTICAR PREMIUM\",\"date_mise_circulation\":2021,\"puissance\":109,\"silhouette\":\"SUV-4x4\",\"nb_places\":5,\"utilisation_prec\":\"Ex-Loueur\",\"puissance_fiscale\":6,\"critair\":\"2\",\"ptac\":1730,\"nb_portes\":5},{\"modele\":\"3008\",\"carburant\":\"Essence\",\"prix\":27770,\"kilometrage\":20743,\"garantie_kilometrage\":\"n\",\"boite_de_vitesse\":\"Automatique\",\"transmission\":\"2\",\"couleur\":\"Gris\",\"garantie\":\"SPOTICAR PREMIUM\",\"date_mise_circulation\":2019,\"puissance\":131,\"silhouette\":\"SUV-4x4\",\"nb_places\":5,\"utilisation_prec\":\"Ex-Loueur\",\"puissance_fiscale\":7,\"critair\":\"1\",\"ptac\":1930,\"nb_portes\":5},{\"modele\":\"3008\",\"carburant\":\"Diesel\",\"prix\":38770,\"kilometrage\":2762,\"garantie_kilometrage\":\"n\",\"boite_de_vitesse\":\"Automatique\",\"transmission\":\"2\",\"couleur\":\"Gris\",\"garantie\":\"SPOTICAR PREMIUM\",\"date_mise_circulation\":2022,\"puissance\":131,\"silhouette\":\"SUV-4x4\",\"nb_places\":5,\"utilisation_prec\":\"Ex-Loueur\",\"puissance_fiscale\":7,\"critair\":\"2\",\"ptac\":2000,\"nb_portes\":5},{\"modele\":\"3008\",\"carburant\":\"Diesel\",\"prix\":28770,\"kilometrage\":38840,\"garantie_kilometrage\":\"n\",\"boite_de_vitesse\":\"Automatique\",\"transmission\":\"2\",\"couleur\":\"Gris\",\"garantie\":\"SPOTICAR PREMIUM\",\"date_mise_circulation\":2021,\"puissance\":131,\"silhouette\":\"SUV-4x4\",\"nb_places\":5,\"utilisation_prec\":\"Ex-Particulier\",\"puissance_fiscale\":7,\"critair\":\"2\",\"ptac\":2000,\"nb_portes\":5},{\"modele\":\"308\",\"carburant\":\"Diesel\",\"prix\":16970,\"kilometrage\":97034,\"garantie_kilometrage\":\"n\",\"boite_de_vitesse\":\"Automatique\",\"transmission\":\"2\",\"couleur\":\"Gris\",\"garantie\":\"SPOTICAR PREMIUM\",\"date_mise_circulation\":2018,\"puissance\":130,\"silhouette\":\"Berline\",\"nb_places\":5,\"utilisation_prec\":\"Ex-Loueur\",\"puissance_fiscale\":6,\"critair\":\"2\",\"ptac\":1840,\"nb_portes\":5},{\"modele\":\"2008\",\"carburant\":\"Diesel\",\"prix\":15770,\"kilometrage\":75249,\"garantie_kilometrage\":\"n\",\"boite_de_vitesse\":\"Manuelle\",\"transmission\":\"2\",\"couleur\":\"Gris\",\"garantie\":\"SPOTICAR PREMIUM\",\"date_mise_circulation\":2019,\"puissance\":102,\"silhouette\":\"SUV-4x4\",\"nb_places\":5,\"utilisation_prec\":\"Ex-Loueur\",\"puissance_fiscale\":5,\"critair\":\"2\",\"ptac\":1700,\"nb_portes\":5},{\"modele\":\"208\",\"carburant\":\"Diesel\",\"prix\":22470,\"kilometrage\":18267,\"garantie_kilometrage\":\"n\",\"boite_de_vitesse\":\"Manuelle\",\"transmission\":\"2\",\"couleur\":\"Gris\",\"garantie\":\"SPOTICAR PREMIUM\",\"date_mise_circulation\":2021,\"puissance\":102,\"silhouette\":\"Citadine\",\"nb_places\":5,\"utilisation_prec\":\"Ex-Loueur\",\"puissance_fiscale\":5,\"critair\":\"2\",\"ptac\":1645,\"nb_portes\":5},{\"modele\":\"2008\",\"carburant\":\"Diesel\",\"prix\":24970,\"kilometrage\":18340,\"garantie_kilometrage\":\"n\",\"boite_de_vitesse\":\"Manuelle\",\"transmission\":\"2\",\"couleur\":\"Gris\",\"garantie\":\"SPOTICAR PREMIUM\",\"date_mise_circulation\":2021,\"puissance\":109,\"silhouette\":\"SUV-4x4\",\"nb_places\":5,\"utilisation_prec\":\"Ex-Société\",\"puissance_fiscale\":6,\"critair\":\"2\",\"ptac\":1730,\"nb_portes\":5},{\"modele\":\"2008\",\"carburant\":\"Diesel\",\"prix\":15470,\"kilometrage\":51306,\"garantie_kilometrage\":\"n\",\"boite_de_vitesse\":\"Manuelle\",\"transmission\":\"2\",\"couleur\":\"Rouge\",\"garantie\":\"SPOTICAR PREMIUM\",\"date_mise_circulation\":2018,\"puissance\":102,\"silhouette\":\"SUV-4x4\",\"nb_places\":5,\"utilisation_prec\":\"Ex-Loueur\",\"puissance_fiscale\":5,\"critair\":\"2\",\"ptac\":1700,\"nb_portes\":5},{\"modele\":\"508 SW\",\"carburant\":\"Diesel\",\"prix\":24970,\"kilometrage\":89000,\"garantie_kilometrage\":\"n\",\"boite_de_vitesse\":\"Automatique\",\"transmission\":\"2\",\"couleur\":\"Blanc\",\"garantie\":\"SPOTICAR PREMIUM\",\"date_mise_circulation\":2019,\"puissance\":163,\"silhouette\":\"Break\",\"nb_places\":5,\"utilisation_prec\":\"Ex-Loueur\",\"puissance_fiscale\":8,\"critair\":\"2\",\"ptac\":2146,\"nb_portes\":5},{\"modele\":\"208\",\"carburant\":\"Essence\",\"prix\":23770,\"kilometrage\":10,\"garantie_kilometrage\":\"n\",\"boite_de_vitesse\":\"Automatique\",\"transmission\":\"2\",\"couleur\":\"Blanc\",\"garantie\":\"SPOTICAR PREMIUM\",\"date_mise_circulation\":2022,\"puissance\":102,\"silhouette\":\"Citadine\",\"nb_places\":5,\"utilisation_prec\":\"Véhicule de direction\",\"puissance_fiscale\":5,\"critair\":\"1\",\"ptac\":1625,\"nb_portes\":5},{\"modele\":\"308 SW\",\"carburant\":\"Diesel\",\"prix\":33470,\"kilometrage\":9245,\"garantie_kilometrage\":\"n\",\"boite_de_vitesse\":\"Automatique\",\"transmission\":\"2\",\"couleur\":\"Blanc\",\"garantie\":\"SPOTICAR PREMIUM\",\"date_mise_circulation\":2022,\"puissance\":131,\"silhouette\":\"Break\",\"nb_places\":5,\"utilisation_prec\":\"Ex-Particulier\",\"puissance_fiscale\":7,\"critair\":\"2\",\"ptac\":1950,\"nb_portes\":5},{\"modele\":\"2008\",\"carburant\":\"Essence\",\"prix\":27970,\"kilometrage\":14461,\"garantie_kilometrage\":\"n\",\"boite_de_vitesse\":\"Automatique\",\"transmission\":\"2\",\"couleur\":\"Blanc\",\"garantie\":\"SPOTICAR PREMIUM\",\"date_mise_circulation\":2021,\"puissance\":131,\"silhouette\":\"SUV-4x4\",\"nb_places\":5,\"utilisation_prec\":\"Ex-Loueur\",\"puissance_fiscale\":7,\"critair\":\"1\",\"ptac\":1752,\"nb_portes\":5},{\"modele\":\"208\",\"carburant\":\"Essence\",\"prix\":25970,\"kilometrage\":4486,\"garantie_kilometrage\":\"n\",\"boite_de_vitesse\":\"Automatique\",\"transmission\":\"2\",\"couleur\":\"Noir\",\"garantie\":\"SPOTICAR PREMIUM\",\"date_mise_circulation\":2022,\"puissance\":102,\"silhouette\":\"Citadine\",\"nb_places\":5,\"utilisation_prec\":\"Ex-Particulier\",\"puissance_fiscale\":5,\"critair\":\"1\",\"ptac\":1625,\"nb_portes\":5},{\"modele\":\"208\",\"carburant\":\"Essence\",\"prix\":19470,\"kilometrage\":22091,\"garantie_kilometrage\":\"n\",\"boite_de_vitesse\":\"Manuelle\",\"transmission\":\"2\",\"couleur\":\"Gris\",\"garantie\":\"SPOTICAR PREMIUM\",\"date_mise_circulation\":2021,\"puissance\":102,\"silhouette\":\"Citadine\",\"nb_places\":5,\"utilisation_prec\":\"Ex-Loueur\",\"puissance_fiscale\":5,\"critair\":\"1\",\"ptac\":1595,\"nb_portes\":5},{\"modele\":\"308 SW\",\"carburant\":\"Diesel\",\"prix\":33470,\"kilometrage\":9990,\"garantie_kilometrage\":\"n\",\"boite_de_vitesse\":\"Automatique\",\"transmission\":\"2\",\"couleur\":\"Gris\",\"garantie\":\"SPOTICAR PREMIUM\",\"date_mise_circulation\":2022,\"puissance\":131,\"silhouette\":\"Break\",\"nb_places\":5,\"utilisation_prec\":\"Ex-Particulier\",\"puissance_fiscale\":7,\"critair\":\"2\",\"ptac\":1950,\"nb_portes\":5},{\"modele\":\"3008\",\"carburant\":\"Essence\",\"prix\":24970,\"kilometrage\":69728,\"garantie_kilometrage\":\"g\",\"boite_de_vitesse\":\"Automatique\",\"transmission\":\"2\",\"couleur\":\"Gris\",\"garantie\":\"SPOTICAR PREMIUM\",\"date_mise_circulation\":2018,\"puissance\":131,\"silhouette\":\"SUV-4x4\",\"nb_places\":5,\"utilisation_prec\":\"Ex-Particulier\",\"puissance_fiscale\":7,\"critair\":\"1\",\"ptac\":1930,\"nb_portes\":5},{\"modele\":\"3008\",\"carburant\":\"Essence\",\"prix\":31470,\"kilometrage\":48662,\"garantie_kilometrage\":\"n\",\"boite_de_vitesse\":\"Manuelle\",\"transmission\":\"2\",\"couleur\":\"Noir\",\"garantie\":\"SPOTICAR PREMIUM\",\"date_mise_circulation\":2021,\"puissance\":131,\"silhouette\":\"SUV-4x4\",\"nb_places\":5,\"utilisation_prec\":\"Ex-Loueur\",\"puissance_fiscale\":7,\"critair\":\"1\",\"ptac\":1910,\"nb_portes\":5},{\"modele\":\"208\",\"carburant\":\"Essence\",\"prix\":23470,\"kilometrage\":31500,\"garantie_kilometrage\":\"g\",\"boite_de_vitesse\":\"Automatique\",\"transmission\":\"2\",\"couleur\":\"Rouge\",\"garantie\":\"SPOTICAR PREMIUM\",\"date_mise_circulation\":2020,\"puissance\":102,\"silhouette\":\"Citadine\",\"nb_places\":5,\"utilisation_prec\":\"Ex-Particulier\",\"puissance_fiscale\":5,\"critair\":\"1\",\"ptac\":1625,\"nb_portes\":5},{\"modele\":\"2008\",\"carburant\":\"Essence\",\"prix\":28970,\"kilometrage\":20975,\"garantie_kilometrage\":\"n\",\"boite_de_vitesse\":\"Automatique\",\"transmission\":\"2\",\"couleur\":\"Rouge\",\"garantie\":\"SPOTICAR PREMIUM\",\"date_mise_circulation\":2021,\"puissance\":131,\"silhouette\":\"SUV-4x4\",\"nb_places\":5,\"utilisation_prec\":\"Ex-Loueur\",\"puissance_fiscale\":7,\"critair\":\"1\",\"ptac\":1752,\"nb_portes\":5},{\"modele\":\"308\",\"carburant\":\"Essence\",\"prix\":26770,\"kilometrage\":7111,\"garantie_kilometrage\":\"n\",\"boite_de_vitesse\":\"Manuelle\",\"transmission\":\"2\",\"couleur\":\"Noir\",\"garantie\":\"SPOTICAR PREMIUM\",\"date_mise_circulation\":2022,\"puissance\":131,\"silhouette\":\"Berline\",\"nb_places\":5,\"utilisation_prec\":\"Ex-Société\",\"puissance_fiscale\":7,\"critair\":\"1\",\"ptac\":1790,\"nb_portes\":5},{\"modele\":\"2008\",\"carburant\":\"Diesel\",\"prix\":31770,\"kilometrage\":9990,\"garantie_kilometrage\":\"n\",\"boite_de_vitesse\":\"Automatique\",\"transmission\":\"2\",\"couleur\":\"Noir\",\"garantie\":\"SPOTICAR PREMIUM\",\"date_mise_circulation\":2022,\"puissance\":131,\"silhouette\":\"SUV-4x4\",\"nb_places\":5,\"utilisation_prec\":\"Ex-Particulier\",\"puissance_fiscale\":7,\"critair\":\"2\",\"ptac\":1770,\"nb_portes\":5},{\"modele\":\"308 SW\",\"carburant\":\"Diesel\",\"prix\":33770,\"kilometrage\":2473,\"garantie_kilometrage\":\"n\",\"boite_de_vitesse\":\"Manuelle\",\"transmission\":\"2\",\"couleur\":\"Blanc\",\"garantie\":\"SPOTICAR PREMIUM\",\"date_mise_circulation\":2022,\"puissance\":131,\"silhouette\":\"Break\",\"nb_places\":5,\"utilisation_prec\":\"Ex-Particulier\",\"puissance_fiscale\":7,\"critair\":\"2\",\"ptac\":1920,\"nb_portes\":5},{\"modele\":\"208\",\"carburant\":\"Essence\",\"prix\":21470,\"kilometrage\":19000,\"garantie_kilometrage\":\"n\",\"boite_de_vitesse\":\"Automatique\",\"transmission\":\"2\",\"couleur\":\"Rouge\",\"garantie\":\"SPOTICAR PREMIUM\",\"date_mise_circulation\":2021,\"puissance\":102,\"silhouette\":\"Citadine\",\"nb_places\":5,\"utilisation_prec\":\"Ex-Loueur\",\"puissance_fiscale\":5,\"critair\":\"1\",\"ptac\":1625,\"nb_portes\":5},{\"modele\":\"2008\",\"carburant\":\"Diesel\",\"prix\":32970,\"kilometrage\":5,\"garantie_kilometrage\":\"n\",\"boite_de_vitesse\":\"Automatique\",\"transmission\":\"2\",\"couleur\":\"Gris\",\"garantie\":\"SPOTICAR PREMIUM\",\"date_mise_circulation\":2022,\"puissance\":131,\"silhouette\":\"SUV-4x4\",\"nb_places\":5,\"utilisation_prec\":\"Ex-Particulier\",\"puissance_fiscale\":7,\"critair\":\"2\",\"ptac\":1770,\"nb_portes\":5},{\"modele\":\"5008\",\"carburant\":\"Essence\",\"prix\":39970,\"kilometrage\":5436,\"garantie_kilometrage\":\"n\",\"boite_de_vitesse\":\"Automatique\",\"transmission\":\"2\",\"couleur\":\"Gris\",\"garantie\":\"SPOTICAR PREMIUM\",\"date_mise_circulation\":2022,\"puissance\":131,\"silhouette\":\"SUV-4x4\",\"nb_places\":7,\"utilisation_prec\":\"Ex-Particulier\",\"puissance_fiscale\":7,\"critair\":\"1\",\"ptac\":2160,\"nb_portes\":5},{\"modele\":\"3008\",\"carburant\":\"Essence\",\"prix\":37470,\"kilometrage\":24139,\"garantie_kilometrage\":\"n\",\"boite_de_vitesse\":\"Automatique\",\"transmission\":\"2\",\"couleur\":\"Noir\",\"garantie\":\"SPOTICAR PREMIUM\",\"date_mise_circulation\":2021,\"puissance\":131,\"silhouette\":\"SUV-4x4\",\"nb_places\":5,\"utilisation_prec\":\"Ex-Loueur\",\"puissance_fiscale\":7,\"critair\":\"1\",\"ptac\":1940,\"nb_portes\":5},{\"modele\":\"2008\",\"carburant\":\"Electrique\",\"prix\":35970,\"kilometrage\":10,\"garantie_kilometrage\":\"n\",\"boite_de_vitesse\":\"Automatique\",\"transmission\":\"2\",\"couleur\":\"Rouge\",\"garantie\":\"SPOTICAR PREMIUM\",\"date_mise_circulation\":2022,\"puissance\":136,\"silhouette\":\"SUV-4x4\",\"nb_places\":5,\"utilisation_prec\":\"Véhicule de direction\",\"puissance_fiscale\":4,\"critair\":\"0\",\"ptac\":2030,\"nb_portes\":5},{\"modele\":\"2008\",\"carburant\":\"Essence\",\"prix\":18770,\"kilometrage\":45159,\"garantie_kilometrage\":\"n\",\"boite_de_vitesse\":\"Automatique\",\"transmission\":\"2\",\"couleur\":\"Gris\",\"garantie\":\"SPOTICAR PREMIUM\",\"date_mise_circulation\":2019,\"puissance\":110,\"silhouette\":\"SUV-4x4\",\"nb_places\":5,\"utilisation_prec\":\"Ex-Import\",\"puissance_fiscale\":6,\"critair\":\"1\",\"ptac\":1680,\"nb_portes\":5},{\"modele\":\"3008\",\"carburant\":\"Essence\",\"prix\":37470,\"kilometrage\":21272,\"garantie_kilometrage\":\"n\",\"boite_de_vitesse\":\"Automatique\",\"transmission\":\"2\",\"couleur\":\"Gris\",\"garantie\":\"SPOTICAR PREMIUM\",\"date_mise_circulation\":2021,\"puissance\":131,\"silhouette\":\"SUV-4x4\",\"nb_places\":5,\"utilisation_prec\":\"Ex-Loueur\",\"puissance_fiscale\":7,\"critair\":\"1\",\"ptac\":1940,\"nb_portes\":5},{\"modele\":\"2008\",\"carburant\":\"Diesel\",\"prix\":27970,\"kilometrage\":44000,\"garantie_kilometrage\":\"n\",\"boite_de_vitesse\":\"Automatique\",\"transmission\":\"2\",\"couleur\":\"Rouge\",\"garantie\":\"SPOTICAR PREMIUM\",\"date_mise_circulation\":2020,\"puissance\":131,\"silhouette\":\"SUV-4x4\",\"nb_places\":5,\"utilisation_prec\":\"Ex-Loueur\",\"puissance_fiscale\":6,\"critair\":\"2\",\"ptac\":1770,\"nb_portes\":5},{\"modele\":\"PARTNER\",\"carburant\":\"Diesel\",\"prix\":19470,\"kilometrage\":32538,\"garantie_kilometrage\":\"n\",\"boite_de_vitesse\":\"Manuelle\",\"transmission\":\"2\",\"couleur\":\"NA\",\"garantie\":\"SPOTICAR PREMIUM\",\"date_mise_circulation\":2020,\"puissance\":99,\"silhouette\":\"Utilitaire\",\"nb_places\":2,\"utilisation_prec\":\"Ex-Loueur\",\"puissance_fiscale\":5,\"critair\":\"2\",\"ptac\":2350,\"nb_portes\":3},{\"modele\":\"308 SW\",\"carburant\":\"Diesel\",\"prix\":33770,\"kilometrage\":10013,\"garantie_kilometrage\":\"n\",\"boite_de_vitesse\":\"Automatique\",\"transmission\":\"2\",\"couleur\":\"Noir\",\"garantie\":\"SPOTICAR PREMIUM\",\"date_mise_circulation\":2022,\"puissance\":131,\"silhouette\":\"Break\",\"nb_places\":5,\"utilisation_prec\":\"Ex-Particulier\",\"puissance_fiscale\":7,\"critair\":\"2\",\"ptac\":1950,\"nb_portes\":5},{\"modele\":\"208\",\"carburant\":\"Diesel\",\"prix\":19970,\"kilometrage\":15452,\"garantie_kilometrage\":\"n\",\"boite_de_vitesse\":\"Manuelle\",\"transmission\":\"2\",\"couleur\":\"Blanc\",\"garantie\":\"SPOTICAR PREMIUM\",\"date_mise_circulation\":2021,\"puissance\":102,\"silhouette\":\"Citadine\",\"nb_places\":5,\"utilisation_prec\":\"Ex-Loueur\",\"puissance_fiscale\":5,\"critair\":\"2\",\"ptac\":1645,\"nb_portes\":5},{\"modele\":\"2008\",\"carburant\":\"Essence\",\"prix\":28970,\"kilometrage\":22001,\"garantie_kilometrage\":\"n\",\"boite_de_vitesse\":\"Automatique\",\"transmission\":\"2\",\"couleur\":\"Blanc\",\"garantie\":\"SPOTICAR PREMIUM\",\"date_mise_circulation\":2021,\"puissance\":131,\"silhouette\":\"SUV-4x4\",\"nb_places\":5,\"utilisation_prec\":\"Ex-Loueur\",\"puissance_fiscale\":7,\"critair\":\"1\",\"ptac\":1752,\"nb_portes\":5},{\"modele\":\"208\",\"carburant\":\"Essence\",\"prix\":20970,\"kilometrage\":16642,\"garantie_kilometrage\":\"n\",\"boite_de_vitesse\":\"Manuelle\",\"transmission\":\"2\",\"couleur\":\"Blanc\",\"garantie\":\"SPOTICAR PREMIUM\",\"date_mise_circulation\":2021,\"puissance\":102,\"silhouette\":\"Citadine\",\"nb_places\":5,\"utilisation_prec\":\"Ex-Loueur\",\"puissance_fiscale\":5,\"critair\":\"1\",\"ptac\":1595,\"nb_portes\":5},{\"modele\":\"2008\",\"carburant\":\"Diesel\",\"prix\":24970,\"kilometrage\":18878,\"garantie_kilometrage\":\"n\",\"boite_de_vitesse\":\"Manuelle\",\"transmission\":\"2\",\"couleur\":\"Gris\",\"garantie\":\"SPOTICAR PREMIUM\",\"date_mise_circulation\":2021,\"puissance\":109,\"silhouette\":\"SUV-4x4\",\"nb_places\":5,\"utilisation_prec\":\"Ex-Loueur\",\"puissance_fiscale\":6,\"critair\":\"2\",\"ptac\":1730,\"nb_portes\":5},{\"modele\":\"208\",\"carburant\":\"Diesel\",\"prix\":19770,\"kilometrage\":16866,\"garantie_kilometrage\":\"n\",\"boite_de_vitesse\":\"Manuelle\",\"transmission\":\"2\",\"couleur\":\"Rouge\",\"garantie\":\"SPOTICAR PREMIUM\",\"date_mise_circulation\":2021,\"puissance\":102,\"silhouette\":\"Citadine\",\"nb_places\":5,\"utilisation_prec\":\"Ex-Loueur\",\"puissance_fiscale\":5,\"critair\":\"2\",\"ptac\":1645,\"nb_portes\":5},{\"modele\":\"5008\",\"carburant\":\"Essence\",\"prix\":26970,\"kilometrage\":44919,\"garantie_kilometrage\":\"n\",\"boite_de_vitesse\":\"Manuelle\",\"transmission\":\"2\",\"couleur\":\"Blanc\",\"garantie\":\"SPOTICAR PREMIUM\",\"date_mise_circulation\":2019,\"puissance\":131,\"silhouette\":\"SUV-4x4\",\"nb_places\":7,\"utilisation_prec\":\"Ex-Import\",\"puissance_fiscale\":7,\"critair\":\"1\",\"ptac\":2120,\"nb_portes\":5},{\"modele\":\"2008\",\"carburant\":\"Diesel\",\"prix\":24970,\"kilometrage\":21960,\"garantie_kilometrage\":\"n\",\"boite_de_vitesse\":\"Manuelle\",\"transmission\":\"2\",\"couleur\":\"Gris\",\"garantie\":\"SPOTICAR PREMIUM\",\"date_mise_circulation\":2021,\"puissance\":109,\"silhouette\":\"SUV-4x4\",\"nb_places\":5,\"utilisation_prec\":\"Ex-Loueur\",\"puissance_fiscale\":6,\"critair\":\"2\",\"ptac\":1730,\"nb_portes\":5},{\"modele\":\"3008\",\"carburant\":\"Hybride rechargeable\",\"prix\":44970,\"kilometrage\":364,\"garantie_kilometrage\":\"n\",\"boite_de_vitesse\":\"Automatique\",\"transmission\":\"2\",\"couleur\":\"Gris\",\"garantie\":\"SPOTICAR PREMIUM\",\"date_mise_circulation\":2022,\"puissance\":181,\"silhouette\":\"SUV-4x4\",\"nb_places\":5,\"utilisation_prec\":\"Ex-Particulier\",\"puissance_fiscale\":10,\"critair\":\"1\",\"ptac\":2257,\"nb_portes\":5},{\"modele\":\"308\",\"carburant\":\"Hybride rechargeable\",\"prix\":39970,\"kilometrage\":28000,\"garantie_kilometrage\":\"n\",\"boite_de_vitesse\":\"Automatique\",\"transmission\":\"2\",\"couleur\":\"Bleu\",\"garantie\":\"SPOTICAR PREMIUM\",\"date_mise_circulation\":2021,\"puissance\":180,\"silhouette\":\"Berline\",\"nb_places\":5,\"utilisation_prec\":\"Véhicule de direction\",\"puissance_fiscale\":10,\"critair\":\"1\",\"ptac\":2120,\"nb_portes\":5},{\"modele\":\"RIFTER\",\"carburant\":\"Electrique\",\"prix\":36770,\"kilometrage\":6344,\"garantie_kilometrage\":\"n\",\"boite_de_vitesse\":\"Automatique\",\"transmission\":\"2\",\"couleur\":\"Gris\",\"garantie\":\"SPOTICAR PREMIUM\",\"date_mise_circulation\":2022,\"puissance\":136,\"silhouette\":\"Familiale\",\"nb_places\":5,\"utilisation_prec\":\"Véhicule de direction\",\"puissance_fiscale\":4,\"critair\":\"0\",\"ptac\":2285,\"nb_portes\":5},{\"modele\":\"2008\",\"carburant\":\"Diesel\",\"prix\":34970,\"kilometrage\":5000,\"garantie_kilometrage\":\"g\",\"boite_de_vitesse\":\"Automatique\",\"transmission\":\"2\",\"couleur\":\"Bleu\",\"garantie\":\"SPOTICAR PREMIUM\",\"date_mise_circulation\":2022,\"puissance\":131,\"silhouette\":\"SUV-4x4\",\"nb_places\":5,\"utilisation_prec\":\"Véhicule de direction\",\"puissance_fiscale\":7,\"critair\":\"2\",\"ptac\":1770,\"nb_portes\":5},{\"modele\":\"308\",\"carburant\":\"Essence\",\"prix\":20970,\"kilometrage\":59701,\"garantie_kilometrage\":\"n\",\"boite_de_vitesse\":\"Manuelle\",\"transmission\":\"2\",\"couleur\":\"Gris\",\"garantie\":\"SPOTICAR PREMIUM\",\"date_mise_circulation\":2019,\"puissance\":130,\"silhouette\":\"Berline\",\"nb_places\":5,\"utilisation_prec\":\"Ex-Import\",\"puissance_fiscale\":6,\"critair\":\"1\",\"ptac\":1750,\"nb_portes\":5},{\"modele\":\"308 SW\",\"carburant\":\"Essence\",\"prix\":18470,\"kilometrage\":46268,\"garantie_kilometrage\":\"n\",\"boite_de_vitesse\":\"Manuelle\",\"transmission\":\"2\",\"couleur\":\"Noir\",\"garantie\":\"SPOTICAR PREMIUM\",\"date_mise_circulation\":2019,\"puissance\":110,\"silhouette\":\"Break\",\"nb_places\":5,\"utilisation_prec\":\"Ex-Import\",\"puissance_fiscale\":7,\"critair\":\"1\",\"ptac\":1790,\"nb_portes\":5},{\"modele\":\"308\",\"carburant\":\"Essence\",\"prix\":18470,\"kilometrage\":32330,\"garantie_kilometrage\":\"n\",\"boite_de_vitesse\":\"Manuelle\",\"transmission\":\"2\",\"couleur\":\"Gris\",\"garantie\":\"SPOTICAR PREMIUM\",\"date_mise_circulation\":2020,\"puissance\":131,\"silhouette\":\"Berline\",\"nb_places\":5,\"utilisation_prec\":\"Ex-Import\",\"puissance_fiscale\":7,\"critair\":\"1\",\"ptac\":1790,\"nb_portes\":5},{\"modele\":\"TRAVELLER\",\"carburant\":\"Electrique\",\"prix\":48970,\"kilometrage\":532,\"garantie_kilometrage\":\"n\",\"boite_de_vitesse\":\"Automatique\",\"transmission\":\"2\",\"couleur\":\"Gris\",\"garantie\":\"SPOTICAR PREMIUM\",\"date_mise_circulation\":2021,\"puissance\":136,\"silhouette\":\"Familiale\",\"nb_places\":9,\"utilisation_prec\":\"Ex-Loueur\",\"puissance_fiscale\":4,\"critair\":\"0\",\"ptac\":3030,\"nb_portes\":4},{\"modele\":\"3008\",\"carburant\":\"Diesel\",\"prix\":28470,\"kilometrage\":89805,\"garantie_kilometrage\":\"n\",\"boite_de_vitesse\":\"Automatique\",\"transmission\":\"2\",\"couleur\":\"Noir\",\"garantie\":\"SPOTICAR PREMIUM\",\"date_mise_circulation\":2019,\"puissance\":181,\"silhouette\":\"SUV-4x4\",\"nb_places\":5,\"utilisation_prec\":\"Ex-Loueur\",\"puissance_fiscale\":10,\"critair\":\"2\",\"ptac\":2090,\"nb_portes\":5},{\"modele\":\"2008\",\"carburant\":\"Diesel\",\"prix\":27990,\"kilometrage\":23156,\"garantie_kilometrage\":\"n\",\"boite_de_vitesse\":\"Automatique\",\"transmission\":\"2\",\"couleur\":\"Gris\",\"garantie\":\"SPOTICAR PREMIUM\",\"date_mise_circulation\":2021,\"puissance\":131,\"silhouette\":\"SUV-4x4\",\"nb_places\":5,\"utilisation_prec\":\"Ex-Particulier\",\"puissance_fiscale\":7,\"critair\":\"2\",\"ptac\":1770,\"nb_portes\":5},{\"modele\":\"208\",\"carburant\":\"Diesel\",\"prix\":14990,\"kilometrage\":89636,\"garantie_kilometrage\":\"g\",\"boite_de_vitesse\":\"Manuelle\",\"transmission\":\"2\",\"couleur\":\"Blanc\",\"garantie\":\"SPOTICAR PREMIUM\",\"date_mise_circulation\":2021,\"puissance\":102,\"silhouette\":\"Citadine\",\"nb_places\":5,\"utilisation_prec\":\"Ex-Auto-école\",\"puissance_fiscale\":5,\"critair\":\"2\",\"ptac\":1645,\"nb_portes\":5},{\"modele\":\"5008\",\"carburant\":\"Essence\",\"prix\":29990,\"kilometrage\":51474,\"garantie_kilometrage\":\"n\",\"boite_de_vitesse\":\"Automatique\",\"transmission\":\"2\",\"couleur\":\"Bleu\",\"garantie\":\"SPOTICAR PREMIUM\",\"date_mise_circulation\":2019,\"puissance\":131,\"silhouette\":\"SUV-4x4\",\"nb_places\":7,\"utilisation_prec\":\"Ex-Loueur\",\"puissance_fiscale\":7,\"critair\":\"1\",\"ptac\":2150,\"nb_portes\":5},{\"modele\":\"3008\",\"carburant\":\"Essence\",\"prix\":23990,\"kilometrage\":75611,\"garantie_kilometrage\":\"n\",\"boite_de_vitesse\":\"Automatique\",\"transmission\":\"2\",\"couleur\":\"Blanc\",\"garantie\":\"SPOTICAR PREMIUM\",\"date_mise_circulation\":2019,\"puissance\":131,\"silhouette\":\"SUV-4x4\",\"nb_places\":5,\"utilisation_prec\":\"Ex-Société\",\"puissance_fiscale\":7,\"critair\":\"1\",\"ptac\":1930,\"nb_portes\":5}]'"
      ]
     },
     "execution_count": 109,
     "metadata": {},
     "output_type": "execute_result"
    }
   ],
   "source": [
    "contenu_fichier\n"
   ]
  },
  {
   "cell_type": "code",
   "execution_count": 110,
   "metadata": {},
   "outputs": [],
   "source": [
    "reconstitution = from_json(list[Voiture],contenu_fichier)\n",
    "\n"
   ]
  },
  {
   "cell_type": "code",
   "execution_count": 111,
   "metadata": {},
   "outputs": [
    {
     "data": {
      "text/plain": [
       "Voiture(modele='208', carburant='Essence', prix=17990, kilometrage=8556, garantie_kilometrage='n', boite_de_vitesse='Manuelle', transmission='2', couleur='Blanc', garantie='SPOTICAR PREMIUM', date_mise_circulation=2022, puissance=75, silhouette='Citadine', nb_places=5, utilisation_prec='Ex-Loueur', puissance_fiscale=4, critair='1', ptac=1510, nb_portes=5)"
      ]
     },
     "execution_count": 111,
     "metadata": {},
     "output_type": "execute_result"
    }
   ],
   "source": [
    "reconstitution[0]"
   ]
  },
  {
   "attachments": {},
   "cell_type": "markdown",
   "metadata": {},
   "source": [
    "# Conversion en base de données panda et nettoyage"
   ]
  },
  {
   "cell_type": "code",
   "execution_count": 112,
   "metadata": {},
   "outputs": [],
   "source": [
    "import pandas as pd"
   ]
  },
  {
   "cell_type": "code",
   "execution_count": 113,
   "metadata": {},
   "outputs": [],
   "source": [
    "df = pd.DataFrame(reconstitution)"
   ]
  },
  {
   "cell_type": "code",
   "execution_count": 114,
   "metadata": {},
   "outputs": [
    {
     "data": {
      "text/html": [
       "<div>\n",
       "<style scoped>\n",
       "    .dataframe tbody tr th:only-of-type {\n",
       "        vertical-align: middle;\n",
       "    }\n",
       "\n",
       "    .dataframe tbody tr th {\n",
       "        vertical-align: top;\n",
       "    }\n",
       "\n",
       "    .dataframe thead th {\n",
       "        text-align: right;\n",
       "    }\n",
       "</style>\n",
       "<table border=\"1\" class=\"dataframe\">\n",
       "  <thead>\n",
       "    <tr style=\"text-align: right;\">\n",
       "      <th></th>\n",
       "      <th>prix</th>\n",
       "      <th>kilometrage</th>\n",
       "      <th>date_mise_circulation</th>\n",
       "      <th>puissance</th>\n",
       "      <th>nb_places</th>\n",
       "      <th>puissance_fiscale</th>\n",
       "      <th>ptac</th>\n",
       "    </tr>\n",
       "  </thead>\n",
       "  <tbody>\n",
       "    <tr>\n",
       "      <th>count</th>\n",
       "      <td>100.000000</td>\n",
       "      <td>100.000000</td>\n",
       "      <td>100.000000</td>\n",
       "      <td>100.000000</td>\n",
       "      <td>100.000000</td>\n",
       "      <td>100.000000</td>\n",
       "      <td>100.000000</td>\n",
       "    </tr>\n",
       "    <tr>\n",
       "      <th>mean</th>\n",
       "      <td>27001.200000</td>\n",
       "      <td>28036.790000</td>\n",
       "      <td>2020.880000</td>\n",
       "      <td>123.630000</td>\n",
       "      <td>5.070000</td>\n",
       "      <td>6.290000</td>\n",
       "      <td>1843.260000</td>\n",
       "    </tr>\n",
       "    <tr>\n",
       "      <th>std</th>\n",
       "      <td>7129.965968</td>\n",
       "      <td>24968.844017</td>\n",
       "      <td>1.112645</td>\n",
       "      <td>21.570956</td>\n",
       "      <td>0.670519</td>\n",
       "      <td>1.437555</td>\n",
       "      <td>253.874487</td>\n",
       "    </tr>\n",
       "    <tr>\n",
       "      <th>min</th>\n",
       "      <td>14990.000000</td>\n",
       "      <td>5.000000</td>\n",
       "      <td>2018.000000</td>\n",
       "      <td>75.000000</td>\n",
       "      <td>2.000000</td>\n",
       "      <td>4.000000</td>\n",
       "      <td>1510.000000</td>\n",
       "    </tr>\n",
       "    <tr>\n",
       "      <th>25%</th>\n",
       "      <td>21620.000000</td>\n",
       "      <td>9407.000000</td>\n",
       "      <td>2020.750000</td>\n",
       "      <td>102.000000</td>\n",
       "      <td>5.000000</td>\n",
       "      <td>5.000000</td>\n",
       "      <td>1641.250000</td>\n",
       "    </tr>\n",
       "    <tr>\n",
       "      <th>50%</th>\n",
       "      <td>26370.000000</td>\n",
       "      <td>21772.000000</td>\n",
       "      <td>2021.000000</td>\n",
       "      <td>131.000000</td>\n",
       "      <td>5.000000</td>\n",
       "      <td>6.500000</td>\n",
       "      <td>1770.000000</td>\n",
       "    </tr>\n",
       "    <tr>\n",
       "      <th>75%</th>\n",
       "      <td>30235.000000</td>\n",
       "      <td>44125.000000</td>\n",
       "      <td>2022.000000</td>\n",
       "      <td>131.000000</td>\n",
       "      <td>5.000000</td>\n",
       "      <td>7.000000</td>\n",
       "      <td>1950.000000</td>\n",
       "    </tr>\n",
       "    <tr>\n",
       "      <th>max</th>\n",
       "      <td>48970.000000</td>\n",
       "      <td>99000.000000</td>\n",
       "      <td>2022.000000</td>\n",
       "      <td>181.000000</td>\n",
       "      <td>9.000000</td>\n",
       "      <td>10.000000</td>\n",
       "      <td>3030.000000</td>\n",
       "    </tr>\n",
       "  </tbody>\n",
       "</table>\n",
       "</div>"
      ],
      "text/plain": [
       "               prix   kilometrage  date_mise_circulation   puissance  \\\n",
       "count    100.000000    100.000000             100.000000  100.000000   \n",
       "mean   27001.200000  28036.790000            2020.880000  123.630000   \n",
       "std     7129.965968  24968.844017               1.112645   21.570956   \n",
       "min    14990.000000      5.000000            2018.000000   75.000000   \n",
       "25%    21620.000000   9407.000000            2020.750000  102.000000   \n",
       "50%    26370.000000  21772.000000            2021.000000  131.000000   \n",
       "75%    30235.000000  44125.000000            2022.000000  131.000000   \n",
       "max    48970.000000  99000.000000            2022.000000  181.000000   \n",
       "\n",
       "        nb_places  puissance_fiscale         ptac  \n",
       "count  100.000000         100.000000   100.000000  \n",
       "mean     5.070000           6.290000  1843.260000  \n",
       "std      0.670519           1.437555   253.874487  \n",
       "min      2.000000           4.000000  1510.000000  \n",
       "25%      5.000000           5.000000  1641.250000  \n",
       "50%      5.000000           6.500000  1770.000000  \n",
       "75%      5.000000           7.000000  1950.000000  \n",
       "max      9.000000          10.000000  3030.000000  "
      ]
     },
     "execution_count": 114,
     "metadata": {},
     "output_type": "execute_result"
    }
   ],
   "source": [
    "df.describe()"
   ]
  },
  {
   "cell_type": "code",
   "execution_count": 115,
   "metadata": {},
   "outputs": [
    {
     "data": {
      "text/html": [
       "<div>\n",
       "<style scoped>\n",
       "    .dataframe tbody tr th:only-of-type {\n",
       "        vertical-align: middle;\n",
       "    }\n",
       "\n",
       "    .dataframe tbody tr th {\n",
       "        vertical-align: top;\n",
       "    }\n",
       "\n",
       "    .dataframe thead th {\n",
       "        text-align: right;\n",
       "    }\n",
       "</style>\n",
       "<table border=\"1\" class=\"dataframe\">\n",
       "  <thead>\n",
       "    <tr style=\"text-align: right;\">\n",
       "      <th></th>\n",
       "      <th>modele</th>\n",
       "      <th>carburant</th>\n",
       "      <th>prix</th>\n",
       "      <th>kilometrage</th>\n",
       "      <th>garantie_kilometrage</th>\n",
       "      <th>boite_de_vitesse</th>\n",
       "      <th>transmission</th>\n",
       "      <th>couleur</th>\n",
       "      <th>garantie</th>\n",
       "      <th>date_mise_circulation</th>\n",
       "      <th>puissance</th>\n",
       "      <th>silhouette</th>\n",
       "      <th>nb_places</th>\n",
       "      <th>utilisation_prec</th>\n",
       "      <th>puissance_fiscale</th>\n",
       "      <th>critair</th>\n",
       "      <th>ptac</th>\n",
       "      <th>nb_portes</th>\n",
       "    </tr>\n",
       "  </thead>\n",
       "  <tbody>\n",
       "    <tr>\n",
       "      <th>0</th>\n",
       "      <td>208</td>\n",
       "      <td>Essence</td>\n",
       "      <td>17990</td>\n",
       "      <td>8556</td>\n",
       "      <td>n</td>\n",
       "      <td>Manuelle</td>\n",
       "      <td>2</td>\n",
       "      <td>Blanc</td>\n",
       "      <td>SPOTICAR PREMIUM</td>\n",
       "      <td>2022</td>\n",
       "      <td>75</td>\n",
       "      <td>Citadine</td>\n",
       "      <td>5</td>\n",
       "      <td>Ex-Loueur</td>\n",
       "      <td>4</td>\n",
       "      <td>1</td>\n",
       "      <td>1510</td>\n",
       "      <td>5</td>\n",
       "    </tr>\n",
       "    <tr>\n",
       "      <th>1</th>\n",
       "      <td>RIFTER</td>\n",
       "      <td>Diesel</td>\n",
       "      <td>27490</td>\n",
       "      <td>51739</td>\n",
       "      <td>g</td>\n",
       "      <td>Manuelle</td>\n",
       "      <td>2</td>\n",
       "      <td>Brun</td>\n",
       "      <td>SPOTICAR PREMIUM</td>\n",
       "      <td>2020</td>\n",
       "      <td>131</td>\n",
       "      <td>Familiale</td>\n",
       "      <td>5</td>\n",
       "      <td>Ex-Particulier</td>\n",
       "      <td>7</td>\n",
       "      <td>2</td>\n",
       "      <td>2135</td>\n",
       "      <td>5</td>\n",
       "    </tr>\n",
       "    <tr>\n",
       "      <th>2</th>\n",
       "      <td>208</td>\n",
       "      <td>Essence</td>\n",
       "      <td>18970</td>\n",
       "      <td>40071</td>\n",
       "      <td>n</td>\n",
       "      <td>Manuelle</td>\n",
       "      <td>2</td>\n",
       "      <td>Gris</td>\n",
       "      <td>SPOTICAR PREMIUM</td>\n",
       "      <td>2021</td>\n",
       "      <td>102</td>\n",
       "      <td>Citadine</td>\n",
       "      <td>5</td>\n",
       "      <td>Ex-Loueur</td>\n",
       "      <td>5</td>\n",
       "      <td>1</td>\n",
       "      <td>1595</td>\n",
       "      <td>5</td>\n",
       "    </tr>\n",
       "    <tr>\n",
       "      <th>3</th>\n",
       "      <td>2008</td>\n",
       "      <td>Essence</td>\n",
       "      <td>26970</td>\n",
       "      <td>15512</td>\n",
       "      <td>n</td>\n",
       "      <td>Automatique</td>\n",
       "      <td>2</td>\n",
       "      <td>Gris</td>\n",
       "      <td>SPOTICAR PREMIUM</td>\n",
       "      <td>2021</td>\n",
       "      <td>131</td>\n",
       "      <td>SUV-4x4</td>\n",
       "      <td>5</td>\n",
       "      <td>Ex-Loueur</td>\n",
       "      <td>7</td>\n",
       "      <td>1</td>\n",
       "      <td>1752</td>\n",
       "      <td>5</td>\n",
       "    </tr>\n",
       "    <tr>\n",
       "      <th>4</th>\n",
       "      <td>3008</td>\n",
       "      <td>Diesel</td>\n",
       "      <td>22970</td>\n",
       "      <td>73499</td>\n",
       "      <td>n</td>\n",
       "      <td>Manuelle</td>\n",
       "      <td>2</td>\n",
       "      <td>Rouge</td>\n",
       "      <td>SPOTICAR PREMIUM</td>\n",
       "      <td>2019</td>\n",
       "      <td>130</td>\n",
       "      <td>SUV-4x4</td>\n",
       "      <td>5</td>\n",
       "      <td>Ex-Loueur</td>\n",
       "      <td>6</td>\n",
       "      <td>2</td>\n",
       "      <td>1970</td>\n",
       "      <td>5</td>\n",
       "    </tr>\n",
       "  </tbody>\n",
       "</table>\n",
       "</div>"
      ],
      "text/plain": [
       "   modele carburant   prix  kilometrage garantie_kilometrage boite_de_vitesse  \\\n",
       "0     208   Essence  17990         8556                    n         Manuelle   \n",
       "1  RIFTER    Diesel  27490        51739                    g         Manuelle   \n",
       "2     208   Essence  18970        40071                    n         Manuelle   \n",
       "3    2008   Essence  26970        15512                    n      Automatique   \n",
       "4    3008    Diesel  22970        73499                    n         Manuelle   \n",
       "\n",
       "  transmission couleur          garantie  date_mise_circulation  puissance  \\\n",
       "0            2   Blanc  SPOTICAR PREMIUM                   2022         75   \n",
       "1            2    Brun  SPOTICAR PREMIUM                   2020        131   \n",
       "2            2    Gris  SPOTICAR PREMIUM                   2021        102   \n",
       "3            2    Gris  SPOTICAR PREMIUM                   2021        131   \n",
       "4            2   Rouge  SPOTICAR PREMIUM                   2019        130   \n",
       "\n",
       "  silhouette  nb_places utilisation_prec  puissance_fiscale critair  ptac  \\\n",
       "0   Citadine          5        Ex-Loueur                  4       1  1510   \n",
       "1  Familiale          5   Ex-Particulier                  7       2  2135   \n",
       "2   Citadine          5        Ex-Loueur                  5       1  1595   \n",
       "3    SUV-4x4          5        Ex-Loueur                  7       1  1752   \n",
       "4    SUV-4x4          5        Ex-Loueur                  6       2  1970   \n",
       "\n",
       "  nb_portes  \n",
       "0         5  \n",
       "1         5  \n",
       "2         5  \n",
       "3         5  \n",
       "4         5  "
      ]
     },
     "execution_count": 115,
     "metadata": {},
     "output_type": "execute_result"
    }
   ],
   "source": [
    "df.head()"
   ]
  },
  {
   "cell_type": "code",
   "execution_count": 116,
   "metadata": {},
   "outputs": [
    {
     "data": {
      "text/plain": [
       "modele                   object\n",
       "carburant                object\n",
       "prix                      int64\n",
       "kilometrage               int64\n",
       "garantie_kilometrage     object\n",
       "boite_de_vitesse         object\n",
       "transmission             object\n",
       "couleur                  object\n",
       "garantie                 object\n",
       "date_mise_circulation     int64\n",
       "puissance                 int64\n",
       "silhouette               object\n",
       "nb_places                 int64\n",
       "utilisation_prec         object\n",
       "puissance_fiscale         int64\n",
       "critair                  object\n",
       "ptac                      int64\n",
       "nb_portes                object\n",
       "dtype: object"
      ]
     },
     "execution_count": 116,
     "metadata": {},
     "output_type": "execute_result"
    }
   ],
   "source": [
    "df.dtypes"
   ]
  },
  {
   "cell_type": "code",
   "execution_count": 117,
   "metadata": {},
   "outputs": [
    {
     "data": {
      "text/plain": [
       "array(['208', 'RIFTER', '2008', '3008', '308', '5008', '508 SW', 'EXPERT',\n",
       "       '308 SW', 'PARTNER', 'TRAVELLER'], dtype=object)"
      ]
     },
     "execution_count": 117,
     "metadata": {},
     "output_type": "execute_result"
    }
   ],
   "source": [
    "df.modele.unique() #supprimer les espaces ?"
   ]
  },
  {
   "cell_type": "code",
   "execution_count": 118,
   "metadata": {},
   "outputs": [
    {
     "data": {
      "text/plain": [
       "array(['Essence', 'Diesel', 'Hybride rechargeable', 'Electrique'],\n",
       "      dtype=object)"
      ]
     },
     "execution_count": 118,
     "metadata": {},
     "output_type": "execute_result"
    }
   ],
   "source": [
    "df.carburant.unique()#supprimer les espaces ?"
   ]
  },
  {
   "cell_type": "code",
   "execution_count": 119,
   "metadata": {},
   "outputs": [
    {
     "name": "stdout",
     "output_type": "stream",
     "text": [
      "modele : ['208' 'RIFTER' '2008' '3008' '308' '5008' '508 SW' 'EXPERT' '308 SW'\n",
      " 'PARTNER' 'TRAVELLER'] \n",
      "carburant : ['Essence' 'Diesel' 'Hybride rechargeable' 'Electrique'] \n",
      "prix : [17990 27490 18970 26970 22970 21470 23770 20470 17970 22770 24470 22470\n",
      " 30970 27470 24970 27970 28470 21670 19970 43970 45470 29970 38470 29470\n",
      " 20970 20770 17470 28970 31470 31970 37970 36770 21970 27770 38770 28770\n",
      " 16970 15770 15470 33470 25970 19470 23470 26770 31770 33770 32970 39970\n",
      " 37470 35970 18770 19770 44970 34970 18470 48970 27990 14990 29990 23990] \n",
      "kilometrage : [ 8556 51739 40071 15512 73499 25086 24416 30583 49727 19165  8126 16818\n",
      " 21919 45800 16793 19281 99000 22422 33219 59795    10  8436 26370 31037\n",
      " 19388 10212 31335 22280  3000 21625 15713 10000 23199 51640 25000 75000\n",
      "  9461 44500 33000 77125 48997 20743  2762 38840 97034 75249 18267 18340\n",
      " 51306 89000  9245 14461  4486 22091  9990 69728 48662 31500 20975  7111\n",
      "  2473 19000     5  5436 24139 45159 21272 44000 32538 10013 15452 22001\n",
      " 16642 18878 16866 44919 21960   364 28000  6344  5000 59701 46268 32330\n",
      "   532 89805 23156 89636 51474 75611] \n",
      "garantie_kilometrage : ['n' 'g'] \n",
      "boite_de_vitesse : ['Manuelle' 'Automatique'] \n",
      "transmission : ['2'] \n",
      "couleur : ['Blanc' 'Brun' 'Gris' 'Rouge' 'Noir' 'Jaune' 'Vert' 'Bleu' 'NA'] \n",
      "garantie : ['SPOTICAR PREMIUM'] \n",
      "date_mise_circulation : [2022 2020 2021 2019 2018] \n",
      "puissance : [ 75 131 102 130 109 181 136 120 163 110  99 180] \n",
      "silhouette : ['Citadine' 'Familiale' 'SUV-4x4' 'Berline' 'Break' 'Utilitaire'] \n",
      "nb_places : [5 7 3 2 9] \n",
      "utilisation_prec : ['Ex-Loueur' 'Ex-Particulier' 'Véhicule de direction' 'Ex-Société'\n",
      " 'Ex-Import' 'NA' 'Ex-Auto-école'] \n",
      "puissance_fiscale : [ 4  7  5  6 10  8] \n",
      "critair : ['1' '2' '0'] \n",
      "ptac : [1510 2135 1595 1752 1970 1625 1630 1645 1880 2200 1730 1770 2290 2257\n",
      " 1910 2790 1790 2090 2000 2030 1940 1930 1840 1700 2146 1950 1920 2160\n",
      " 1680 2350 2120 2285 1750 3030 2150] \n",
      "nb_portes : [5 'NA' 3 4] \n"
     ]
    }
   ],
   "source": [
    "for i in df.columns:\n",
    "    col_selec = f\"df.{i}.unique()\"\n",
    "    \n",
    "    print(f\"{i} : {eval(col_selec)} \")"
   ]
  },
  {
   "attachments": {},
   "cell_type": "markdown",
   "metadata": {},
   "source": [
    "## Remarques sur les variables :\n",
    "\n",
    "- modele : enlever les espaces, ou supprimer les variables peu occurentes (<=1)\n",
    "- carburant : même remarque\n",
    "- même remarque pour toutes les variables textuelles\n",
    "- utilisation précédente : regrouper par pro/loueur/part/ ne sait pas ?"
   ]
  },
  {
   "cell_type": "code",
   "execution_count": 120,
   "metadata": {},
   "outputs": [
    {
     "data": {
      "text/plain": [
       "modele                   object\n",
       "carburant                object\n",
       "prix                      int64\n",
       "kilometrage               int64\n",
       "garantie_kilometrage     object\n",
       "boite_de_vitesse         object\n",
       "transmission             object\n",
       "couleur                  object\n",
       "garantie                 object\n",
       "date_mise_circulation     int64\n",
       "puissance                 int64\n",
       "silhouette               object\n",
       "nb_places                 int64\n",
       "utilisation_prec         object\n",
       "puissance_fiscale         int64\n",
       "critair                  object\n",
       "ptac                      int64\n",
       "nb_portes                object\n",
       "dtype: object"
      ]
     },
     "execution_count": 120,
     "metadata": {},
     "output_type": "execute_result"
    }
   ],
   "source": [
    "df.dtypes"
   ]
  },
  {
   "cell_type": "code",
   "execution_count": 121,
   "metadata": {},
   "outputs": [
    {
     "data": {
      "text/plain": [
       "modele                   string\n",
       "carburant                string\n",
       "prix                      Int64\n",
       "kilometrage               Int64\n",
       "garantie_kilometrage     string\n",
       "boite_de_vitesse         string\n",
       "transmission             string\n",
       "couleur                  string\n",
       "garantie                 string\n",
       "date_mise_circulation     Int64\n",
       "puissance                 Int64\n",
       "silhouette               string\n",
       "nb_places                 Int64\n",
       "utilisation_prec         string\n",
       "puissance_fiscale         Int64\n",
       "critair                  string\n",
       "ptac                      Int64\n",
       "nb_portes                object\n",
       "dtype: object"
      ]
     },
     "execution_count": 121,
     "metadata": {},
     "output_type": "execute_result"
    }
   ],
   "source": [
    "df.convert_dtypes().dtypes"
   ]
  },
  {
   "cell_type": "code",
   "execution_count": 122,
   "metadata": {},
   "outputs": [
    {
     "data": {
      "text/html": [
       "<div>\n",
       "<style scoped>\n",
       "    .dataframe tbody tr th:only-of-type {\n",
       "        vertical-align: middle;\n",
       "    }\n",
       "\n",
       "    .dataframe tbody tr th {\n",
       "        vertical-align: top;\n",
       "    }\n",
       "\n",
       "    .dataframe thead th {\n",
       "        text-align: right;\n",
       "    }\n",
       "</style>\n",
       "<table border=\"1\" class=\"dataframe\">\n",
       "  <thead>\n",
       "    <tr style=\"text-align: right;\">\n",
       "      <th></th>\n",
       "      <th>modele</th>\n",
       "      <th>carburant</th>\n",
       "      <th>prix</th>\n",
       "      <th>kilometrage</th>\n",
       "      <th>garantie_kilometrage</th>\n",
       "      <th>boite_de_vitesse</th>\n",
       "      <th>transmission</th>\n",
       "      <th>couleur</th>\n",
       "      <th>garantie</th>\n",
       "      <th>date_mise_circulation</th>\n",
       "      <th>puissance</th>\n",
       "      <th>silhouette</th>\n",
       "      <th>nb_places</th>\n",
       "      <th>utilisation_prec</th>\n",
       "      <th>puissance_fiscale</th>\n",
       "      <th>critair</th>\n",
       "      <th>ptac</th>\n",
       "      <th>nb_portes</th>\n",
       "    </tr>\n",
       "  </thead>\n",
       "  <tbody>\n",
       "    <tr>\n",
       "      <th>0</th>\n",
       "      <td>208</td>\n",
       "      <td>Essence</td>\n",
       "      <td>17990</td>\n",
       "      <td>8556</td>\n",
       "      <td>n</td>\n",
       "      <td>Manuelle</td>\n",
       "      <td>2</td>\n",
       "      <td>Blanc</td>\n",
       "      <td>SPOTICAR PREMIUM</td>\n",
       "      <td>2022</td>\n",
       "      <td>75</td>\n",
       "      <td>Citadine</td>\n",
       "      <td>5</td>\n",
       "      <td>Ex-Loueur</td>\n",
       "      <td>4</td>\n",
       "      <td>1</td>\n",
       "      <td>1510</td>\n",
       "      <td>5</td>\n",
       "    </tr>\n",
       "    <tr>\n",
       "      <th>1</th>\n",
       "      <td>RIFTER</td>\n",
       "      <td>Diesel</td>\n",
       "      <td>27490</td>\n",
       "      <td>51739</td>\n",
       "      <td>g</td>\n",
       "      <td>Manuelle</td>\n",
       "      <td>2</td>\n",
       "      <td>Brun</td>\n",
       "      <td>SPOTICAR PREMIUM</td>\n",
       "      <td>2020</td>\n",
       "      <td>131</td>\n",
       "      <td>Familiale</td>\n",
       "      <td>5</td>\n",
       "      <td>Ex-Particulier</td>\n",
       "      <td>7</td>\n",
       "      <td>2</td>\n",
       "      <td>2135</td>\n",
       "      <td>5</td>\n",
       "    </tr>\n",
       "    <tr>\n",
       "      <th>2</th>\n",
       "      <td>208</td>\n",
       "      <td>Essence</td>\n",
       "      <td>18970</td>\n",
       "      <td>40071</td>\n",
       "      <td>n</td>\n",
       "      <td>Manuelle</td>\n",
       "      <td>2</td>\n",
       "      <td>Gris</td>\n",
       "      <td>SPOTICAR PREMIUM</td>\n",
       "      <td>2021</td>\n",
       "      <td>102</td>\n",
       "      <td>Citadine</td>\n",
       "      <td>5</td>\n",
       "      <td>Ex-Loueur</td>\n",
       "      <td>5</td>\n",
       "      <td>1</td>\n",
       "      <td>1595</td>\n",
       "      <td>5</td>\n",
       "    </tr>\n",
       "    <tr>\n",
       "      <th>3</th>\n",
       "      <td>2008</td>\n",
       "      <td>Essence</td>\n",
       "      <td>26970</td>\n",
       "      <td>15512</td>\n",
       "      <td>n</td>\n",
       "      <td>Automatique</td>\n",
       "      <td>2</td>\n",
       "      <td>Gris</td>\n",
       "      <td>SPOTICAR PREMIUM</td>\n",
       "      <td>2021</td>\n",
       "      <td>131</td>\n",
       "      <td>SUV-4x4</td>\n",
       "      <td>5</td>\n",
       "      <td>Ex-Loueur</td>\n",
       "      <td>7</td>\n",
       "      <td>1</td>\n",
       "      <td>1752</td>\n",
       "      <td>5</td>\n",
       "    </tr>\n",
       "    <tr>\n",
       "      <th>4</th>\n",
       "      <td>3008</td>\n",
       "      <td>Diesel</td>\n",
       "      <td>22970</td>\n",
       "      <td>73499</td>\n",
       "      <td>n</td>\n",
       "      <td>Manuelle</td>\n",
       "      <td>2</td>\n",
       "      <td>Rouge</td>\n",
       "      <td>SPOTICAR PREMIUM</td>\n",
       "      <td>2019</td>\n",
       "      <td>130</td>\n",
       "      <td>SUV-4x4</td>\n",
       "      <td>5</td>\n",
       "      <td>Ex-Loueur</td>\n",
       "      <td>6</td>\n",
       "      <td>2</td>\n",
       "      <td>1970</td>\n",
       "      <td>5</td>\n",
       "    </tr>\n",
       "  </tbody>\n",
       "</table>\n",
       "</div>"
      ],
      "text/plain": [
       "   modele carburant   prix  kilometrage garantie_kilometrage boite_de_vitesse  \\\n",
       "0     208   Essence  17990         8556                    n         Manuelle   \n",
       "1  RIFTER    Diesel  27490        51739                    g         Manuelle   \n",
       "2     208   Essence  18970        40071                    n         Manuelle   \n",
       "3    2008   Essence  26970        15512                    n      Automatique   \n",
       "4    3008    Diesel  22970        73499                    n         Manuelle   \n",
       "\n",
       "  transmission couleur          garantie  date_mise_circulation  puissance  \\\n",
       "0            2   Blanc  SPOTICAR PREMIUM                   2022         75   \n",
       "1            2    Brun  SPOTICAR PREMIUM                   2020        131   \n",
       "2            2    Gris  SPOTICAR PREMIUM                   2021        102   \n",
       "3            2    Gris  SPOTICAR PREMIUM                   2021        131   \n",
       "4            2   Rouge  SPOTICAR PREMIUM                   2019        130   \n",
       "\n",
       "  silhouette  nb_places utilisation_prec  puissance_fiscale critair  ptac  \\\n",
       "0   Citadine          5        Ex-Loueur                  4       1  1510   \n",
       "1  Familiale          5   Ex-Particulier                  7       2  2135   \n",
       "2   Citadine          5        Ex-Loueur                  5       1  1595   \n",
       "3    SUV-4x4          5        Ex-Loueur                  7       1  1752   \n",
       "4    SUV-4x4          5        Ex-Loueur                  6       2  1970   \n",
       "\n",
       "  nb_portes  \n",
       "0         5  \n",
       "1         5  \n",
       "2         5  \n",
       "3         5  \n",
       "4         5  "
      ]
     },
     "execution_count": 122,
     "metadata": {},
     "output_type": "execute_result"
    }
   ],
   "source": [
    "df.head()"
   ]
  },
  {
   "cell_type": "code",
   "execution_count": 164,
   "metadata": {},
   "outputs": [],
   "source": [
    "#df.garantie_kilometrage= df.garantie_kilometrage.astype('bool')\n",
    "#df.modele= df.garantie_kilometrage.astype('category')\n",
    "df = df.astype({ \"modele\": 'object',\"carburant\": 'category',\n",
    "                \"prix\": 'int32',\n",
    "                \"kilometrage\" : 'int32',\n",
    "#                \"garantie_kilometrage\":'bool',\n",
    "#                \"boite_de_vitesse\": 'bool', #checker sur plus grosses données si il existe d'autres modalités\n",
    "                \"transmission\" : 'category',\n",
    "                \"couleur\" : 'category',\n",
    "                \"garantie\" : 'category',\n",
    "                \"date_mise_circulation\":'category',\n",
    "                \"puissance\" : \"int32\",\n",
    "                \"silhouette\" : 'category',\n",
    "                \"nb_places\" : 'int32',\n",
    "                \"utilisation_prec\" : 'category',\n",
    "                \"puissance_fiscale\" : 'int32',\n",
    "                \"critair\": 'category',\n",
    "                \"boite_de_vitesse\": 'category',\n",
    "                \"ptac\" : \"int32\"\n",
    "                })"
   ]
  },
  {
   "cell_type": "code",
   "execution_count": 165,
   "metadata": {},
   "outputs": [
    {
     "data": {
      "text/plain": [
       "modele                     object\n",
       "carburant                category\n",
       "prix                        int32\n",
       "kilometrage                 int32\n",
       "garantie_kilometrage         bool\n",
       "boite_de_vitesse         category\n",
       "transmission             category\n",
       "couleur                  category\n",
       "garantie                 category\n",
       "date_mise_circulation    category\n",
       "puissance                   int32\n",
       "silhouette               category\n",
       "nb_places                   int32\n",
       "utilisation_prec         category\n",
       "puissance_fiscale           int32\n",
       "critair                  category\n",
       "ptac                        int32\n",
       "nb_portes                  object\n",
       "dtype: object"
      ]
     },
     "execution_count": 165,
     "metadata": {},
     "output_type": "execute_result"
    }
   ],
   "source": [
    "df.dtypes"
   ]
  },
  {
   "cell_type": "code",
   "execution_count": 166,
   "metadata": {},
   "outputs": [
    {
     "data": {
      "text/plain": [
       "True    1\n",
       "Name: nb_portes, dtype: int64"
      ]
     },
     "execution_count": 166,
     "metadata": {},
     "output_type": "execute_result"
    }
   ],
   "source": [
    "df.nb_portes.str.match('NA').value_counts()"
   ]
  },
  {
   "cell_type": "code",
   "execution_count": 167,
   "metadata": {},
   "outputs": [],
   "source": [
    "#df.garantie_kilometrage.replace({'n': 'no', 'g': 'yes'})"
   ]
  },
  {
   "cell_type": "code",
   "execution_count": 168,
   "metadata": {},
   "outputs": [
    {
     "data": {
      "text/plain": [
       "array([False,  True])"
      ]
     },
     "execution_count": 168,
     "metadata": {},
     "output_type": "execute_result"
    }
   ],
   "source": [
    "df.garantie_kilometrage.unique()"
   ]
  },
  {
   "cell_type": "code",
   "execution_count": 169,
   "metadata": {},
   "outputs": [],
   "source": [
    "df['garantie_kilometrage'] = df['garantie_kilometrage'].map({'n':False,'g':True})\n"
   ]
  },
  {
   "cell_type": "code",
   "execution_count": 179,
   "metadata": {},
   "outputs": [
    {
     "name": "stdout",
     "output_type": "stream",
     "text": [
      "       modele             carburant   prix  kilometrage garantie_kilometrage  \\\n",
      "0         208               Essence  17990         8556                  NaN   \n",
      "1      RIFTER                Diesel  27490        51739                  NaN   \n",
      "2         208               Essence  18970        40071                  NaN   \n",
      "3        2008               Essence  26970        15512                  NaN   \n",
      "4        3008                Diesel  22970        73499                  NaN   \n",
      "5         208               Essence  21470        25086                  NaN   \n",
      "6         208               Essence  23770        24416                  NaN   \n",
      "7         208                Diesel  20470        30583                  NaN   \n",
      "8         208               Essence  17970        49727                  NaN   \n",
      "9         208               Essence  22770        19165                  NaN   \n",
      "10        208               Essence  24470         8126                  NaN   \n",
      "11        208               Essence  22470        16818                  NaN   \n",
      "12        308               Essence  30970        21919                  NaN   \n",
      "13        208               Essence  17970        45800                  NaN   \n",
      "14       2008               Essence  27470        16793                  NaN   \n",
      "15        208               Essence  22470        19281                  NaN   \n",
      "16       5008                Diesel  24970        99000                  NaN   \n",
      "17       2008                Diesel  24970        22422                  NaN   \n",
      "18       2008               Essence  24970        33219                  NaN   \n",
      "19       3008                Diesel  27970        59795                  NaN   \n",
      "20        208               Essence  28470           10                  NaN   \n",
      "21        208               Essence  21670         8436                  NaN   \n",
      "22       2008                Diesel  26970        26370                  NaN   \n",
      "23        208               Essence  22970           10                  NaN   \n",
      "24       2008                Diesel  26970        31037                  NaN   \n",
      "25        208               Essence  22470        19388                  NaN   \n",
      "26        208               Essence  19970        10212                  NaN   \n",
      "27     508 SW  Hybride rechargeable  43970        31335                  NaN   \n",
      "28       2008                Diesel  24970        22280                  NaN   \n",
      "29       3008  Hybride rechargeable  45470           10                  NaN   \n",
      "30        208               Essence  28470           10                  NaN   \n",
      "31        208            Electrique  29970         3000                  NaN   \n",
      "32       3008  Hybride rechargeable  38470        21625                  NaN   \n",
      "33     EXPERT                Diesel  29470           10                  NaN   \n",
      "34        208               Essence  27470           10                  NaN   \n",
      "35        208               Essence  20970        15713                  NaN   \n",
      "36       2008                Diesel  24970        10000                  NaN   \n",
      "37        208               Essence  20770        23199                  NaN   \n",
      "38        308               Essence  17470        51640                  NaN   \n",
      "39       2008                Diesel  26970        25000                  NaN   \n",
      "40       3008                Diesel  29470        75000                  NaN   \n",
      "41       2008               Essence  28970         3000                  NaN   \n",
      "42       2008                Diesel  31470         9461                  NaN   \n",
      "43       3008                Diesel  31970        44500                  NaN   \n",
      "44       2008            Electrique  37970         3000                  NaN   \n",
      "45       3008               Essence  36770        33000                  NaN   \n",
      "46       3008               Essence  21970        77125                  NaN   \n",
      "47       2008                Diesel  20970        48997                  NaN   \n",
      "48       3008               Essence  27770        20743                  NaN   \n",
      "49       3008                Diesel  38770         2762                  NaN   \n",
      "50       3008                Diesel  28770        38840                  NaN   \n",
      "51        308                Diesel  16970        97034                  NaN   \n",
      "52       2008                Diesel  15770        75249                  NaN   \n",
      "53        208                Diesel  22470        18267                  NaN   \n",
      "54       2008                Diesel  24970        18340                  NaN   \n",
      "55       2008                Diesel  15470        51306                  NaN   \n",
      "56     508 SW                Diesel  24970        89000                  NaN   \n",
      "57        208               Essence  23770           10                  NaN   \n",
      "58     308 SW                Diesel  33470         9245                  NaN   \n",
      "59       2008               Essence  27970        14461                  NaN   \n",
      "60        208               Essence  25970         4486                  NaN   \n",
      "61        208               Essence  19470        22091                  NaN   \n",
      "62     308 SW                Diesel  33470         9990                  NaN   \n",
      "63       3008               Essence  24970        69728                  NaN   \n",
      "64       3008               Essence  31470        48662                  NaN   \n",
      "65        208               Essence  23470        31500                  NaN   \n",
      "66       2008               Essence  28970        20975                  NaN   \n",
      "67        308               Essence  26770         7111                  NaN   \n",
      "68       2008                Diesel  31770         9990                  NaN   \n",
      "69     308 SW                Diesel  33770         2473                  NaN   \n",
      "70        208               Essence  21470        19000                  NaN   \n",
      "71       2008                Diesel  32970            5                  NaN   \n",
      "72       5008               Essence  39970         5436                  NaN   \n",
      "73       3008               Essence  37470        24139                  NaN   \n",
      "74       2008            Electrique  35970           10                  NaN   \n",
      "75       2008               Essence  18770        45159                  NaN   \n",
      "76       3008               Essence  37470        21272                  NaN   \n",
      "77       2008                Diesel  27970        44000                  NaN   \n",
      "78    PARTNER                Diesel  19470        32538                  NaN   \n",
      "79     308 SW                Diesel  33770        10013                  NaN   \n",
      "80        208                Diesel  19970        15452                  NaN   \n",
      "81       2008               Essence  28970        22001                  NaN   \n",
      "82        208               Essence  20970        16642                  NaN   \n",
      "83       2008                Diesel  24970        18878                  NaN   \n",
      "84        208                Diesel  19770        16866                  NaN   \n",
      "85       5008               Essence  26970        44919                  NaN   \n",
      "86       2008                Diesel  24970        21960                  NaN   \n",
      "87       3008  Hybride rechargeable  44970          364                  NaN   \n",
      "88        308  Hybride rechargeable  39970        28000                  NaN   \n",
      "89     RIFTER            Electrique  36770         6344                  NaN   \n",
      "90       2008                Diesel  34970         5000                  NaN   \n",
      "91        308               Essence  20970        59701                  NaN   \n",
      "92     308 SW               Essence  18470        46268                  NaN   \n",
      "93        308               Essence  18470        32330                  NaN   \n",
      "94  TRAVELLER            Electrique  48970          532                  NaN   \n",
      "95       3008                Diesel  28470        89805                  NaN   \n",
      "96       2008                Diesel  27990        23156                  NaN   \n",
      "97        208                Diesel  14990        89636                  NaN   \n",
      "98       5008               Essence  29990        51474                  NaN   \n",
      "99       3008               Essence  23990        75611                  NaN   \n",
      "\n",
      "   boite_de_vitesse transmission couleur          garantie  \\\n",
      "0          Manuelle            2   Blanc  SPOTICAR PREMIUM   \n",
      "1          Manuelle            2    Brun  SPOTICAR PREMIUM   \n",
      "2          Manuelle            2    Gris  SPOTICAR PREMIUM   \n",
      "3       Automatique            2    Gris  SPOTICAR PREMIUM   \n",
      "4          Manuelle            2   Rouge  SPOTICAR PREMIUM   \n",
      "5       Automatique            2    Gris  SPOTICAR PREMIUM   \n",
      "6       Automatique            2    Gris  SPOTICAR PREMIUM   \n",
      "7          Manuelle            2    Noir  SPOTICAR PREMIUM   \n",
      "8          Manuelle            2    Gris  SPOTICAR PREMIUM   \n",
      "9       Automatique            2   Jaune  SPOTICAR PREMIUM   \n",
      "10         Manuelle            2    Gris  SPOTICAR PREMIUM   \n",
      "11      Automatique            2   Blanc  SPOTICAR PREMIUM   \n",
      "12      Automatique            2    Vert  SPOTICAR PREMIUM   \n",
      "13         Manuelle            2    Noir  SPOTICAR PREMIUM   \n",
      "14      Automatique            2    Gris  SPOTICAR PREMIUM   \n",
      "15      Automatique            2    Gris  SPOTICAR PREMIUM   \n",
      "16      Automatique            2    Gris  SPOTICAR PREMIUM   \n",
      "17         Manuelle            2   Rouge  SPOTICAR PREMIUM   \n",
      "18      Automatique            2    Gris  SPOTICAR PREMIUM   \n",
      "19         Manuelle            2   Rouge  SPOTICAR PREMIUM   \n",
      "20      Automatique            2   Rouge  SPOTICAR PREMIUM   \n",
      "21      Automatique            2   Rouge  SPOTICAR PREMIUM   \n",
      "22      Automatique            2    Gris  SPOTICAR PREMIUM   \n",
      "23      Automatique            2    Noir  SPOTICAR PREMIUM   \n",
      "24      Automatique            2    Noir  SPOTICAR PREMIUM   \n",
      "25      Automatique            2    Gris  SPOTICAR PREMIUM   \n",
      "26         Manuelle            2    Gris  SPOTICAR PREMIUM   \n",
      "27      Automatique            2    Bleu  SPOTICAR PREMIUM   \n",
      "28         Manuelle            2    Gris  SPOTICAR PREMIUM   \n",
      "29      Automatique            2    Bleu  SPOTICAR PREMIUM   \n",
      "30      Automatique            2    Bleu  SPOTICAR PREMIUM   \n",
      "31      Automatique            2    Gris  SPOTICAR PREMIUM   \n",
      "32      Automatique            2    Bleu  SPOTICAR PREMIUM   \n",
      "33         Manuelle            2   Blanc  SPOTICAR PREMIUM   \n",
      "34      Automatique            2    Gris  SPOTICAR PREMIUM   \n",
      "35         Manuelle            2    Gris  SPOTICAR PREMIUM   \n",
      "36         Manuelle            2    Gris  SPOTICAR PREMIUM   \n",
      "37         Manuelle            2   Blanc  SPOTICAR PREMIUM   \n",
      "38         Manuelle            2   Blanc  SPOTICAR PREMIUM   \n",
      "39      Automatique            2    Gris  SPOTICAR PREMIUM   \n",
      "40      Automatique            2   Rouge  SPOTICAR PREMIUM   \n",
      "41      Automatique            2   Blanc  SPOTICAR PREMIUM   \n",
      "42      Automatique            2    Noir  SPOTICAR PREMIUM   \n",
      "43      Automatique            2    Gris  SPOTICAR PREMIUM   \n",
      "44      Automatique            2   Rouge  SPOTICAR PREMIUM   \n",
      "45      Automatique            2    Noir  SPOTICAR PREMIUM   \n",
      "46         Manuelle            2    Noir  SPOTICAR PREMIUM   \n",
      "47         Manuelle            2    Noir  SPOTICAR PREMIUM   \n",
      "48      Automatique            2    Gris  SPOTICAR PREMIUM   \n",
      "49      Automatique            2    Gris  SPOTICAR PREMIUM   \n",
      "50      Automatique            2    Gris  SPOTICAR PREMIUM   \n",
      "51      Automatique            2    Gris  SPOTICAR PREMIUM   \n",
      "52         Manuelle            2    Gris  SPOTICAR PREMIUM   \n",
      "53         Manuelle            2    Gris  SPOTICAR PREMIUM   \n",
      "54         Manuelle            2    Gris  SPOTICAR PREMIUM   \n",
      "55         Manuelle            2   Rouge  SPOTICAR PREMIUM   \n",
      "56      Automatique            2   Blanc  SPOTICAR PREMIUM   \n",
      "57      Automatique            2   Blanc  SPOTICAR PREMIUM   \n",
      "58      Automatique            2   Blanc  SPOTICAR PREMIUM   \n",
      "59      Automatique            2   Blanc  SPOTICAR PREMIUM   \n",
      "60      Automatique            2    Noir  SPOTICAR PREMIUM   \n",
      "61         Manuelle            2    Gris  SPOTICAR PREMIUM   \n",
      "62      Automatique            2    Gris  SPOTICAR PREMIUM   \n",
      "63      Automatique            2    Gris  SPOTICAR PREMIUM   \n",
      "64         Manuelle            2    Noir  SPOTICAR PREMIUM   \n",
      "65      Automatique            2   Rouge  SPOTICAR PREMIUM   \n",
      "66      Automatique            2   Rouge  SPOTICAR PREMIUM   \n",
      "67         Manuelle            2    Noir  SPOTICAR PREMIUM   \n",
      "68      Automatique            2    Noir  SPOTICAR PREMIUM   \n",
      "69         Manuelle            2   Blanc  SPOTICAR PREMIUM   \n",
      "70      Automatique            2   Rouge  SPOTICAR PREMIUM   \n",
      "71      Automatique            2    Gris  SPOTICAR PREMIUM   \n",
      "72      Automatique            2    Gris  SPOTICAR PREMIUM   \n",
      "73      Automatique            2    Noir  SPOTICAR PREMIUM   \n",
      "74      Automatique            2   Rouge  SPOTICAR PREMIUM   \n",
      "75      Automatique            2    Gris  SPOTICAR PREMIUM   \n",
      "76      Automatique            2    Gris  SPOTICAR PREMIUM   \n",
      "77      Automatique            2   Rouge  SPOTICAR PREMIUM   \n",
      "78         Manuelle            2      NA  SPOTICAR PREMIUM   \n",
      "79      Automatique            2    Noir  SPOTICAR PREMIUM   \n",
      "80         Manuelle            2   Blanc  SPOTICAR PREMIUM   \n",
      "81      Automatique            2   Blanc  SPOTICAR PREMIUM   \n",
      "82         Manuelle            2   Blanc  SPOTICAR PREMIUM   \n",
      "83         Manuelle            2    Gris  SPOTICAR PREMIUM   \n",
      "84         Manuelle            2   Rouge  SPOTICAR PREMIUM   \n",
      "85         Manuelle            2   Blanc  SPOTICAR PREMIUM   \n",
      "86         Manuelle            2    Gris  SPOTICAR PREMIUM   \n",
      "87      Automatique            2    Gris  SPOTICAR PREMIUM   \n",
      "88      Automatique            2    Bleu  SPOTICAR PREMIUM   \n",
      "89      Automatique            2    Gris  SPOTICAR PREMIUM   \n",
      "90      Automatique            2    Bleu  SPOTICAR PREMIUM   \n",
      "91         Manuelle            2    Gris  SPOTICAR PREMIUM   \n",
      "92         Manuelle            2    Noir  SPOTICAR PREMIUM   \n",
      "93         Manuelle            2    Gris  SPOTICAR PREMIUM   \n",
      "94      Automatique            2    Gris  SPOTICAR PREMIUM   \n",
      "95      Automatique            2    Noir  SPOTICAR PREMIUM   \n",
      "96      Automatique            2    Gris  SPOTICAR PREMIUM   \n",
      "97         Manuelle            2   Blanc  SPOTICAR PREMIUM   \n",
      "98      Automatique            2    Bleu  SPOTICAR PREMIUM   \n",
      "99      Automatique            2   Blanc  SPOTICAR PREMIUM   \n",
      "\n",
      "   date_mise_circulation  puissance  silhouette  nb_places  \\\n",
      "0                   2022         75    Citadine          5   \n",
      "1                   2020        131   Familiale          5   \n",
      "2                   2021        102    Citadine          5   \n",
      "3                   2021        131     SUV-4x4          5   \n",
      "4                   2019        130     SUV-4x4          5   \n",
      "5                   2022        102    Citadine          5   \n",
      "6                   2021        130    Citadine          5   \n",
      "7                   2021        102    Citadine          5   \n",
      "8                   2021        102    Citadine          5   \n",
      "9                   2020        130    Citadine          5   \n",
      "10                  2022        102    Citadine          5   \n",
      "11                  2021        102    Citadine          5   \n",
      "12                  2021        131     Berline          5   \n",
      "13                  2021        102    Citadine          5   \n",
      "14                  2021        131     SUV-4x4          5   \n",
      "15                  2022        102    Citadine          5   \n",
      "16                  2019        130     SUV-4x4          7   \n",
      "17                  2021        109     SUV-4x4          5   \n",
      "18                  2021        131     SUV-4x4          5   \n",
      "19                  2020        130     SUV-4x4          5   \n",
      "20                  2022        102    Citadine          5   \n",
      "21                  2022        102    Citadine          5   \n",
      "22                  2021        131     SUV-4x4          5   \n",
      "23                  2022        102    Citadine          5   \n",
      "24                  2021        131     SUV-4x4          5   \n",
      "25                  2022        102    Citadine          5   \n",
      "26                  2022        102    Citadine          5   \n",
      "27                  2021        181       Break          5   \n",
      "28                  2021        109     SUV-4x4          5   \n",
      "29                  2022        181     SUV-4x4          5   \n",
      "30                  2022        102    Citadine          5   \n",
      "31                  2022        136    Citadine          5   \n",
      "32                  2021        181     SUV-4x4          5   \n",
      "33                  2022        120  Utilitaire          3   \n",
      "34                  2022        102    Citadine          5   \n",
      "35                  2022        102    Citadine          5   \n",
      "36                  2021        109     SUV-4x4          5   \n",
      "37                  2021        102    Citadine          5   \n",
      "38                  2020        131     Berline          5   \n",
      "39                  2021        131     SUV-4x4          5   \n",
      "40                  2019        181     SUV-4x4          5   \n",
      "41                  2022        131     SUV-4x4          5   \n",
      "42                  2022        131     SUV-4x4          5   \n",
      "43                  2021        131     SUV-4x4          5   \n",
      "44                  2022        136     SUV-4x4          5   \n",
      "45                  2021        131     SUV-4x4          5   \n",
      "46                  2019        131     SUV-4x4          5   \n",
      "47                  2021        109     SUV-4x4          5   \n",
      "48                  2019        131     SUV-4x4          5   \n",
      "49                  2022        131     SUV-4x4          5   \n",
      "50                  2021        131     SUV-4x4          5   \n",
      "51                  2018        130     Berline          5   \n",
      "52                  2019        102     SUV-4x4          5   \n",
      "53                  2021        102    Citadine          5   \n",
      "54                  2021        109     SUV-4x4          5   \n",
      "55                  2018        102     SUV-4x4          5   \n",
      "56                  2019        163       Break          5   \n",
      "57                  2022        102    Citadine          5   \n",
      "58                  2022        131       Break          5   \n",
      "59                  2021        131     SUV-4x4          5   \n",
      "60                  2022        102    Citadine          5   \n",
      "61                  2021        102    Citadine          5   \n",
      "62                  2022        131       Break          5   \n",
      "63                  2018        131     SUV-4x4          5   \n",
      "64                  2021        131     SUV-4x4          5   \n",
      "65                  2020        102    Citadine          5   \n",
      "66                  2021        131     SUV-4x4          5   \n",
      "67                  2022        131     Berline          5   \n",
      "68                  2022        131     SUV-4x4          5   \n",
      "69                  2022        131       Break          5   \n",
      "70                  2021        102    Citadine          5   \n",
      "71                  2022        131     SUV-4x4          5   \n",
      "72                  2022        131     SUV-4x4          7   \n",
      "73                  2021        131     SUV-4x4          5   \n",
      "74                  2022        136     SUV-4x4          5   \n",
      "75                  2019        110     SUV-4x4          5   \n",
      "76                  2021        131     SUV-4x4          5   \n",
      "77                  2020        131     SUV-4x4          5   \n",
      "78                  2020         99  Utilitaire          2   \n",
      "79                  2022        131       Break          5   \n",
      "80                  2021        102    Citadine          5   \n",
      "81                  2021        131     SUV-4x4          5   \n",
      "82                  2021        102    Citadine          5   \n",
      "83                  2021        109     SUV-4x4          5   \n",
      "84                  2021        102    Citadine          5   \n",
      "85                  2019        131     SUV-4x4          7   \n",
      "86                  2021        109     SUV-4x4          5   \n",
      "87                  2022        181     SUV-4x4          5   \n",
      "88                  2021        180     Berline          5   \n",
      "89                  2022        136   Familiale          5   \n",
      "90                  2022        131     SUV-4x4          5   \n",
      "91                  2019        130     Berline          5   \n",
      "92                  2019        110       Break          5   \n",
      "93                  2020        131     Berline          5   \n",
      "94                  2021        136   Familiale          9   \n",
      "95                  2019        181     SUV-4x4          5   \n",
      "96                  2021        131     SUV-4x4          5   \n",
      "97                  2021        102    Citadine          5   \n",
      "98                  2019        131     SUV-4x4          7   \n",
      "99                  2019        131     SUV-4x4          5   \n",
      "\n",
      "         utilisation_prec  puissance_fiscale critair  ptac nb_portes  \n",
      "0               Ex-Loueur                  4       1  1510         5  \n",
      "1          Ex-Particulier                  7       2  2135         5  \n",
      "2               Ex-Loueur                  5       1  1595         5  \n",
      "3               Ex-Loueur                  7       1  1752         5  \n",
      "4               Ex-Loueur                  6       2  1970         5  \n",
      "5               Ex-Loueur                  5       1  1625         5  \n",
      "6               Ex-Loueur                  7       1  1630         5  \n",
      "7               Ex-Loueur                  5       2  1645         5  \n",
      "8               Ex-Loueur                  5       1  1595         5  \n",
      "9               Ex-Loueur                  7       1  1630         5  \n",
      "10              Ex-Loueur                  5       1  1595         5  \n",
      "11              Ex-Loueur                  5       1  1625         5  \n",
      "12  Véhicule de direction                  7       1  1880         5  \n",
      "13              Ex-Loueur                  5       1  1595         5  \n",
      "14              Ex-Loueur                  7       1  1752         5  \n",
      "15              Ex-Loueur                  5       1  1625         5  \n",
      "16              Ex-Loueur                  6       2  2200         5  \n",
      "17              Ex-Loueur                  6       2  1730         5  \n",
      "18  Véhicule de direction                  7       1  1752         5  \n",
      "19  Véhicule de direction                  7       2  1970         5  \n",
      "20  Véhicule de direction                  5       1  1625         5  \n",
      "21              Ex-Loueur                  5       1  1625         5  \n",
      "22              Ex-Loueur                  7       2  1770         5  \n",
      "23  Véhicule de direction                  5       1  1625         5  \n",
      "24              Ex-Loueur                  7       2  1770         5  \n",
      "25              Ex-Loueur                  5       1  1625         5  \n",
      "26              Ex-Loueur                  5       1  1595         5  \n",
      "27         Ex-Particulier                 10       1  2290         5  \n",
      "28              Ex-Loueur                  6       2  1730         5  \n",
      "29  Véhicule de direction                 10       1  2257         5  \n",
      "30  Véhicule de direction                  5       1  1625         5  \n",
      "31  Véhicule de direction                  4       0  1910         5  \n",
      "32             Ex-Société                 10       1  2257         5  \n",
      "33  Véhicule de direction                  5       2  2790        NA  \n",
      "34  Véhicule de direction                  5       1  1625         5  \n",
      "35              Ex-Loueur                  5       1  1595         5  \n",
      "36              Ex-Loueur                  6       2  1730         5  \n",
      "37              Ex-Loueur                  5       1  1595         5  \n",
      "38              Ex-Import                  7       1  1790         5  \n",
      "39              Ex-Loueur                  7       2  1770         5  \n",
      "40              Ex-Loueur                 10       2  2090         5  \n",
      "41  Véhicule de direction                  7       1  1752         5  \n",
      "42              Ex-Loueur                  7       2  1770         5  \n",
      "43                     NA                  7       2  2000         5  \n",
      "44  Véhicule de direction                  4       0  2030         5  \n",
      "45              Ex-Loueur                  7       1  1940         5  \n",
      "46              Ex-Loueur                  7       1  1910         5  \n",
      "47              Ex-Loueur                  6       2  1730         5  \n",
      "48              Ex-Loueur                  7       1  1930         5  \n",
      "49              Ex-Loueur                  7       2  2000         5  \n",
      "50         Ex-Particulier                  7       2  2000         5  \n",
      "51              Ex-Loueur                  6       2  1840         5  \n",
      "52              Ex-Loueur                  5       2  1700         5  \n",
      "53              Ex-Loueur                  5       2  1645         5  \n",
      "54             Ex-Société                  6       2  1730         5  \n",
      "55              Ex-Loueur                  5       2  1700         5  \n",
      "56              Ex-Loueur                  8       2  2146         5  \n",
      "57  Véhicule de direction                  5       1  1625         5  \n",
      "58         Ex-Particulier                  7       2  1950         5  \n",
      "59              Ex-Loueur                  7       1  1752         5  \n",
      "60         Ex-Particulier                  5       1  1625         5  \n",
      "61              Ex-Loueur                  5       1  1595         5  \n",
      "62         Ex-Particulier                  7       2  1950         5  \n",
      "63         Ex-Particulier                  7       1  1930         5  \n",
      "64              Ex-Loueur                  7       1  1910         5  \n",
      "65         Ex-Particulier                  5       1  1625         5  \n",
      "66              Ex-Loueur                  7       1  1752         5  \n",
      "67             Ex-Société                  7       1  1790         5  \n",
      "68         Ex-Particulier                  7       2  1770         5  \n",
      "69         Ex-Particulier                  7       2  1920         5  \n",
      "70              Ex-Loueur                  5       1  1625         5  \n",
      "71         Ex-Particulier                  7       2  1770         5  \n",
      "72         Ex-Particulier                  7       1  2160         5  \n",
      "73              Ex-Loueur                  7       1  1940         5  \n",
      "74  Véhicule de direction                  4       0  2030         5  \n",
      "75              Ex-Import                  6       1  1680         5  \n",
      "76              Ex-Loueur                  7       1  1940         5  \n",
      "77              Ex-Loueur                  6       2  1770         5  \n",
      "78              Ex-Loueur                  5       2  2350         3  \n",
      "79         Ex-Particulier                  7       2  1950         5  \n",
      "80              Ex-Loueur                  5       2  1645         5  \n",
      "81              Ex-Loueur                  7       1  1752         5  \n",
      "82              Ex-Loueur                  5       1  1595         5  \n",
      "83              Ex-Loueur                  6       2  1730         5  \n",
      "84              Ex-Loueur                  5       2  1645         5  \n",
      "85              Ex-Import                  7       1  2120         5  \n",
      "86              Ex-Loueur                  6       2  1730         5  \n",
      "87         Ex-Particulier                 10       1  2257         5  \n",
      "88  Véhicule de direction                 10       1  2120         5  \n",
      "89  Véhicule de direction                  4       0  2285         5  \n",
      "90  Véhicule de direction                  7       2  1770         5  \n",
      "91              Ex-Import                  6       1  1750         5  \n",
      "92              Ex-Import                  7       1  1790         5  \n",
      "93              Ex-Import                  7       1  1790         5  \n",
      "94              Ex-Loueur                  4       0  3030         4  \n",
      "95              Ex-Loueur                 10       2  2090         5  \n",
      "96         Ex-Particulier                  7       2  1770         5  \n",
      "97          Ex-Auto-école                  5       2  1645         5  \n",
      "98              Ex-Loueur                  7       1  2150         5  \n",
      "99             Ex-Société                  7       1  1930         5  \n"
     ]
    }
   ],
   "source": [
    "with pd.option_context('display.max_rows', None,\n",
    "                       'display.max_columns', None,\n",
    "                       'display.precision', 3,\n",
    "                       ):\n",
    "    print(df)"
   ]
  },
  {
   "cell_type": "code",
   "execution_count": 171,
   "metadata": {},
   "outputs": [
    {
     "data": {
      "text/plain": [
       "modele                     object\n",
       "carburant                category\n",
       "prix                        int32\n",
       "kilometrage                 int32\n",
       "garantie_kilometrage       object\n",
       "boite_de_vitesse         category\n",
       "transmission             category\n",
       "couleur                  category\n",
       "garantie                 category\n",
       "date_mise_circulation    category\n",
       "puissance                   int32\n",
       "silhouette               category\n",
       "nb_places                   int32\n",
       "utilisation_prec         category\n",
       "puissance_fiscale           int32\n",
       "critair                  category\n",
       "ptac                        int32\n",
       "nb_portes                  object\n",
       "dtype: object"
      ]
     },
     "execution_count": 171,
     "metadata": {},
     "output_type": "execute_result"
    }
   ],
   "source": [
    "df.dtypes"
   ]
  },
  {
   "cell_type": "code",
   "execution_count": 172,
   "metadata": {},
   "outputs": [
    {
     "data": {
      "text/plain": [
       "array(['208', 'RIFTER', '2008', '3008', '308', '5008', '508 SW', 'EXPERT',\n",
       "       '308 SW', 'PARTNER', 'TRAVELLER'], dtype=object)"
      ]
     },
     "execution_count": 172,
     "metadata": {},
     "output_type": "execute_result"
    }
   ],
   "source": [
    "df.modele.unique()"
   ]
  },
  {
   "cell_type": "code",
   "execution_count": 173,
   "metadata": {},
   "outputs": [],
   "source": [
    "y = df['prix'].to_numpy()\n",
    "X = df.loc[:, df.columns != 'prix'].to_numpy() # tout sauf le prix"
   ]
  },
  {
   "cell_type": "code",
   "execution_count": 174,
   "metadata": {},
   "outputs": [
    {
     "data": {
      "text/plain": [
       "(numpy.ndarray, (100,))"
      ]
     },
     "execution_count": 174,
     "metadata": {},
     "output_type": "execute_result"
    }
   ],
   "source": [
    "type(y), y.shape"
   ]
  },
  {
   "cell_type": "code",
   "execution_count": 175,
   "metadata": {},
   "outputs": [
    {
     "data": {
      "text/plain": [
       "(numpy.ndarray, (100, 17))"
      ]
     },
     "execution_count": 175,
     "metadata": {},
     "output_type": "execute_result"
    }
   ],
   "source": [
    "type(X), X.shape"
   ]
  },
  {
   "cell_type": "code",
   "execution_count": 176,
   "metadata": {},
   "outputs": [],
   "source": [
    "from sklearn.model_selection import train_test_split\n",
    "from sklearn.model_selection import RandomizedSearchCV, GridSearchCV\n",
    "from sklearn.linear_model import ElasticNet"
   ]
  },
  {
   "cell_type": "code",
   "execution_count": 177,
   "metadata": {},
   "outputs": [],
   "source": [
    "X_tr, X_te, y_tr, y_te = train_test_split(X, y)"
   ]
  },
  {
   "cell_type": "code",
   "execution_count": 178,
   "metadata": {},
   "outputs": [
    {
     "ename": "ValueError",
     "evalue": "\nAll the 300 fits failed.\nIt is very likely that your model is misconfigured.\nYou can try to debug the error by setting error_score='raise'.\n\nBelow are more details about the failures:\n--------------------------------------------------------------------------------\n60 fits failed with the following error:\nTraceback (most recent call last):\n  File \"c:\\Users\\bapti\\AppData\\Local\\Programs\\Python\\Python311\\Lib\\site-packages\\sklearn\\model_selection\\_validation.py\", line 686, in _fit_and_score\n    estimator.fit(X_train, y_train, **fit_params)\n  File \"c:\\Users\\bapti\\AppData\\Local\\Programs\\Python\\Python311\\Lib\\site-packages\\sklearn\\linear_model\\_coordinate_descent.py\", line 911, in fit\n    X, y = self._validate_data(\n           ^^^^^^^^^^^^^^^^^^^^\n  File \"c:\\Users\\bapti\\AppData\\Local\\Programs\\Python\\Python311\\Lib\\site-packages\\sklearn\\base.py\", line 554, in _validate_data\n    X, y = check_X_y(X, y, **check_params)\n           ^^^^^^^^^^^^^^^^^^^^^^^^^^^^^^^\n  File \"c:\\Users\\bapti\\AppData\\Local\\Programs\\Python\\Python311\\Lib\\site-packages\\sklearn\\utils\\validation.py\", line 1104, in check_X_y\n    X = check_array(\n        ^^^^^^^^^^^^\n  File \"c:\\Users\\bapti\\AppData\\Local\\Programs\\Python\\Python311\\Lib\\site-packages\\sklearn\\utils\\validation.py\", line 877, in check_array\n    array = _asarray_with_order(array, order=order, dtype=dtype, xp=xp)\n            ^^^^^^^^^^^^^^^^^^^^^^^^^^^^^^^^^^^^^^^^^^^^^^^^^^^^^^^^^^^\n  File \"c:\\Users\\bapti\\AppData\\Local\\Programs\\Python\\Python311\\Lib\\site-packages\\sklearn\\utils\\_array_api.py\", line 185, in _asarray_with_order\n    array = numpy.asarray(array, order=order, dtype=dtype)\n            ^^^^^^^^^^^^^^^^^^^^^^^^^^^^^^^^^^^^^^^^^^^^^^\nValueError: could not convert string to float: '508 SW'\n\n--------------------------------------------------------------------------------\n240 fits failed with the following error:\nTraceback (most recent call last):\n  File \"c:\\Users\\bapti\\AppData\\Local\\Programs\\Python\\Python311\\Lib\\site-packages\\sklearn\\model_selection\\_validation.py\", line 686, in _fit_and_score\n    estimator.fit(X_train, y_train, **fit_params)\n  File \"c:\\Users\\bapti\\AppData\\Local\\Programs\\Python\\Python311\\Lib\\site-packages\\sklearn\\linear_model\\_coordinate_descent.py\", line 911, in fit\n    X, y = self._validate_data(\n           ^^^^^^^^^^^^^^^^^^^^\n  File \"c:\\Users\\bapti\\AppData\\Local\\Programs\\Python\\Python311\\Lib\\site-packages\\sklearn\\base.py\", line 554, in _validate_data\n    X, y = check_X_y(X, y, **check_params)\n           ^^^^^^^^^^^^^^^^^^^^^^^^^^^^^^^\n  File \"c:\\Users\\bapti\\AppData\\Local\\Programs\\Python\\Python311\\Lib\\site-packages\\sklearn\\utils\\validation.py\", line 1104, in check_X_y\n    X = check_array(\n        ^^^^^^^^^^^^\n  File \"c:\\Users\\bapti\\AppData\\Local\\Programs\\Python\\Python311\\Lib\\site-packages\\sklearn\\utils\\validation.py\", line 877, in check_array\n    array = _asarray_with_order(array, order=order, dtype=dtype, xp=xp)\n            ^^^^^^^^^^^^^^^^^^^^^^^^^^^^^^^^^^^^^^^^^^^^^^^^^^^^^^^^^^^\n  File \"c:\\Users\\bapti\\AppData\\Local\\Programs\\Python\\Python311\\Lib\\site-packages\\sklearn\\utils\\_array_api.py\", line 185, in _asarray_with_order\n    array = numpy.asarray(array, order=order, dtype=dtype)\n            ^^^^^^^^^^^^^^^^^^^^^^^^^^^^^^^^^^^^^^^^^^^^^^\nValueError: could not convert string to float: '308 SW'\n",
     "output_type": "error",
     "traceback": [
      "\u001b[1;31m---------------------------------------------------------------------------\u001b[0m",
      "\u001b[1;31mValueError\u001b[0m                                Traceback (most recent call last)",
      "Cell \u001b[1;32mIn [178], line 9\u001b[0m\n\u001b[0;32m      1\u001b[0m en \u001b[39m=\u001b[39m ElasticNet()\n\u001b[0;32m      2\u001b[0m en_gs \u001b[39m=\u001b[39m GridSearchCV(\n\u001b[0;32m      3\u001b[0m     en,\n\u001b[0;32m      4\u001b[0m     {\n\u001b[1;32m   (...)\u001b[0m\n\u001b[0;32m      7\u001b[0m     }\n\u001b[0;32m      8\u001b[0m )\n\u001b[1;32m----> 9\u001b[0m en_gs\u001b[39m.\u001b[39;49mfit(X_tr, y_tr)\n\u001b[0;32m     10\u001b[0m en_df \u001b[39m=\u001b[39m pd\u001b[39m.\u001b[39mDataFrame(en_gs\u001b[39m.\u001b[39mcv_results_)\n\u001b[0;32m     11\u001b[0m en_df\u001b[39m.\u001b[39mhead()\n",
      "File \u001b[1;32mc:\\Users\\bapti\\AppData\\Local\\Programs\\Python\\Python311\\Lib\\site-packages\\sklearn\\model_selection\\_search.py:875\u001b[0m, in \u001b[0;36mBaseSearchCV.fit\u001b[1;34m(self, X, y, groups, **fit_params)\u001b[0m\n\u001b[0;32m    869\u001b[0m     results \u001b[39m=\u001b[39m \u001b[39mself\u001b[39m\u001b[39m.\u001b[39m_format_results(\n\u001b[0;32m    870\u001b[0m         all_candidate_params, n_splits, all_out, all_more_results\n\u001b[0;32m    871\u001b[0m     )\n\u001b[0;32m    873\u001b[0m     \u001b[39mreturn\u001b[39;00m results\n\u001b[1;32m--> 875\u001b[0m \u001b[39mself\u001b[39;49m\u001b[39m.\u001b[39;49m_run_search(evaluate_candidates)\n\u001b[0;32m    877\u001b[0m \u001b[39m# multimetric is determined here because in the case of a callable\u001b[39;00m\n\u001b[0;32m    878\u001b[0m \u001b[39m# self.scoring the return type is only known after calling\u001b[39;00m\n\u001b[0;32m    879\u001b[0m first_test_score \u001b[39m=\u001b[39m all_out[\u001b[39m0\u001b[39m][\u001b[39m\"\u001b[39m\u001b[39mtest_scores\u001b[39m\u001b[39m\"\u001b[39m]\n",
      "File \u001b[1;32mc:\\Users\\bapti\\AppData\\Local\\Programs\\Python\\Python311\\Lib\\site-packages\\sklearn\\model_selection\\_search.py:1389\u001b[0m, in \u001b[0;36mGridSearchCV._run_search\u001b[1;34m(self, evaluate_candidates)\u001b[0m\n\u001b[0;32m   1387\u001b[0m \u001b[39mdef\u001b[39;00m \u001b[39m_run_search\u001b[39m(\u001b[39mself\u001b[39m, evaluate_candidates):\n\u001b[0;32m   1388\u001b[0m     \u001b[39m\"\"\"Search all candidates in param_grid\"\"\"\u001b[39;00m\n\u001b[1;32m-> 1389\u001b[0m     evaluate_candidates(ParameterGrid(\u001b[39mself\u001b[39;49m\u001b[39m.\u001b[39;49mparam_grid))\n",
      "File \u001b[1;32mc:\\Users\\bapti\\AppData\\Local\\Programs\\Python\\Python311\\Lib\\site-packages\\sklearn\\model_selection\\_search.py:852\u001b[0m, in \u001b[0;36mBaseSearchCV.fit.<locals>.evaluate_candidates\u001b[1;34m(candidate_params, cv, more_results)\u001b[0m\n\u001b[0;32m    845\u001b[0m \u001b[39melif\u001b[39;00m \u001b[39mlen\u001b[39m(out) \u001b[39m!=\u001b[39m n_candidates \u001b[39m*\u001b[39m n_splits:\n\u001b[0;32m    846\u001b[0m     \u001b[39mraise\u001b[39;00m \u001b[39mValueError\u001b[39;00m(\n\u001b[0;32m    847\u001b[0m         \u001b[39m\"\u001b[39m\u001b[39mcv.split and cv.get_n_splits returned \u001b[39m\u001b[39m\"\u001b[39m\n\u001b[0;32m    848\u001b[0m         \u001b[39m\"\u001b[39m\u001b[39minconsistent results. Expected \u001b[39m\u001b[39m{}\u001b[39;00m\u001b[39m \u001b[39m\u001b[39m\"\u001b[39m\n\u001b[0;32m    849\u001b[0m         \u001b[39m\"\u001b[39m\u001b[39msplits, got \u001b[39m\u001b[39m{}\u001b[39;00m\u001b[39m\"\u001b[39m\u001b[39m.\u001b[39mformat(n_splits, \u001b[39mlen\u001b[39m(out) \u001b[39m/\u001b[39m\u001b[39m/\u001b[39m n_candidates)\n\u001b[0;32m    850\u001b[0m     )\n\u001b[1;32m--> 852\u001b[0m _warn_or_raise_about_fit_failures(out, \u001b[39mself\u001b[39;49m\u001b[39m.\u001b[39;49merror_score)\n\u001b[0;32m    854\u001b[0m \u001b[39m# For callable self.scoring, the return type is only know after\u001b[39;00m\n\u001b[0;32m    855\u001b[0m \u001b[39m# calling. If the return type is a dictionary, the error scores\u001b[39;00m\n\u001b[0;32m    856\u001b[0m \u001b[39m# can now be inserted with the correct key. The type checking\u001b[39;00m\n\u001b[0;32m    857\u001b[0m \u001b[39m# of out will be done in `_insert_error_scores`.\u001b[39;00m\n\u001b[0;32m    858\u001b[0m \u001b[39mif\u001b[39;00m callable(\u001b[39mself\u001b[39m\u001b[39m.\u001b[39mscoring):\n",
      "File \u001b[1;32mc:\\Users\\bapti\\AppData\\Local\\Programs\\Python\\Python311\\Lib\\site-packages\\sklearn\\model_selection\\_validation.py:367\u001b[0m, in \u001b[0;36m_warn_or_raise_about_fit_failures\u001b[1;34m(results, error_score)\u001b[0m\n\u001b[0;32m    360\u001b[0m \u001b[39mif\u001b[39;00m num_failed_fits \u001b[39m==\u001b[39m num_fits:\n\u001b[0;32m    361\u001b[0m     all_fits_failed_message \u001b[39m=\u001b[39m (\n\u001b[0;32m    362\u001b[0m         \u001b[39mf\u001b[39m\u001b[39m\"\u001b[39m\u001b[39m\\n\u001b[39;00m\u001b[39mAll the \u001b[39m\u001b[39m{\u001b[39;00mnum_fits\u001b[39m}\u001b[39;00m\u001b[39m fits failed.\u001b[39m\u001b[39m\\n\u001b[39;00m\u001b[39m\"\u001b[39m\n\u001b[0;32m    363\u001b[0m         \u001b[39m\"\u001b[39m\u001b[39mIt is very likely that your model is misconfigured.\u001b[39m\u001b[39m\\n\u001b[39;00m\u001b[39m\"\u001b[39m\n\u001b[0;32m    364\u001b[0m         \u001b[39m\"\u001b[39m\u001b[39mYou can try to debug the error by setting error_score=\u001b[39m\u001b[39m'\u001b[39m\u001b[39mraise\u001b[39m\u001b[39m'\u001b[39m\u001b[39m.\u001b[39m\u001b[39m\\n\u001b[39;00m\u001b[39m\\n\u001b[39;00m\u001b[39m\"\u001b[39m\n\u001b[0;32m    365\u001b[0m         \u001b[39mf\u001b[39m\u001b[39m\"\u001b[39m\u001b[39mBelow are more details about the failures:\u001b[39m\u001b[39m\\n\u001b[39;00m\u001b[39m{\u001b[39;00mfit_errors_summary\u001b[39m}\u001b[39;00m\u001b[39m\"\u001b[39m\n\u001b[0;32m    366\u001b[0m     )\n\u001b[1;32m--> 367\u001b[0m     \u001b[39mraise\u001b[39;00m \u001b[39mValueError\u001b[39;00m(all_fits_failed_message)\n\u001b[0;32m    369\u001b[0m \u001b[39melse\u001b[39;00m:\n\u001b[0;32m    370\u001b[0m     some_fits_failed_message \u001b[39m=\u001b[39m (\n\u001b[0;32m    371\u001b[0m         \u001b[39mf\u001b[39m\u001b[39m\"\u001b[39m\u001b[39m\\n\u001b[39;00m\u001b[39m{\u001b[39;00mnum_failed_fits\u001b[39m}\u001b[39;00m\u001b[39m fits failed out of a total of \u001b[39m\u001b[39m{\u001b[39;00mnum_fits\u001b[39m}\u001b[39;00m\u001b[39m.\u001b[39m\u001b[39m\\n\u001b[39;00m\u001b[39m\"\u001b[39m\n\u001b[0;32m    372\u001b[0m         \u001b[39m\"\u001b[39m\u001b[39mThe score on these train-test partitions for these parameters\u001b[39m\u001b[39m\"\u001b[39m\n\u001b[1;32m   (...)\u001b[0m\n\u001b[0;32m    376\u001b[0m         \u001b[39mf\u001b[39m\u001b[39m\"\u001b[39m\u001b[39mBelow are more details about the failures:\u001b[39m\u001b[39m\\n\u001b[39;00m\u001b[39m{\u001b[39;00mfit_errors_summary\u001b[39m}\u001b[39;00m\u001b[39m\"\u001b[39m\n\u001b[0;32m    377\u001b[0m     )\n",
      "\u001b[1;31mValueError\u001b[0m: \nAll the 300 fits failed.\nIt is very likely that your model is misconfigured.\nYou can try to debug the error by setting error_score='raise'.\n\nBelow are more details about the failures:\n--------------------------------------------------------------------------------\n60 fits failed with the following error:\nTraceback (most recent call last):\n  File \"c:\\Users\\bapti\\AppData\\Local\\Programs\\Python\\Python311\\Lib\\site-packages\\sklearn\\model_selection\\_validation.py\", line 686, in _fit_and_score\n    estimator.fit(X_train, y_train, **fit_params)\n  File \"c:\\Users\\bapti\\AppData\\Local\\Programs\\Python\\Python311\\Lib\\site-packages\\sklearn\\linear_model\\_coordinate_descent.py\", line 911, in fit\n    X, y = self._validate_data(\n           ^^^^^^^^^^^^^^^^^^^^\n  File \"c:\\Users\\bapti\\AppData\\Local\\Programs\\Python\\Python311\\Lib\\site-packages\\sklearn\\base.py\", line 554, in _validate_data\n    X, y = check_X_y(X, y, **check_params)\n           ^^^^^^^^^^^^^^^^^^^^^^^^^^^^^^^\n  File \"c:\\Users\\bapti\\AppData\\Local\\Programs\\Python\\Python311\\Lib\\site-packages\\sklearn\\utils\\validation.py\", line 1104, in check_X_y\n    X = check_array(\n        ^^^^^^^^^^^^\n  File \"c:\\Users\\bapti\\AppData\\Local\\Programs\\Python\\Python311\\Lib\\site-packages\\sklearn\\utils\\validation.py\", line 877, in check_array\n    array = _asarray_with_order(array, order=order, dtype=dtype, xp=xp)\n            ^^^^^^^^^^^^^^^^^^^^^^^^^^^^^^^^^^^^^^^^^^^^^^^^^^^^^^^^^^^\n  File \"c:\\Users\\bapti\\AppData\\Local\\Programs\\Python\\Python311\\Lib\\site-packages\\sklearn\\utils\\_array_api.py\", line 185, in _asarray_with_order\n    array = numpy.asarray(array, order=order, dtype=dtype)\n            ^^^^^^^^^^^^^^^^^^^^^^^^^^^^^^^^^^^^^^^^^^^^^^\nValueError: could not convert string to float: '508 SW'\n\n--------------------------------------------------------------------------------\n240 fits failed with the following error:\nTraceback (most recent call last):\n  File \"c:\\Users\\bapti\\AppData\\Local\\Programs\\Python\\Python311\\Lib\\site-packages\\sklearn\\model_selection\\_validation.py\", line 686, in _fit_and_score\n    estimator.fit(X_train, y_train, **fit_params)\n  File \"c:\\Users\\bapti\\AppData\\Local\\Programs\\Python\\Python311\\Lib\\site-packages\\sklearn\\linear_model\\_coordinate_descent.py\", line 911, in fit\n    X, y = self._validate_data(\n           ^^^^^^^^^^^^^^^^^^^^\n  File \"c:\\Users\\bapti\\AppData\\Local\\Programs\\Python\\Python311\\Lib\\site-packages\\sklearn\\base.py\", line 554, in _validate_data\n    X, y = check_X_y(X, y, **check_params)\n           ^^^^^^^^^^^^^^^^^^^^^^^^^^^^^^^\n  File \"c:\\Users\\bapti\\AppData\\Local\\Programs\\Python\\Python311\\Lib\\site-packages\\sklearn\\utils\\validation.py\", line 1104, in check_X_y\n    X = check_array(\n        ^^^^^^^^^^^^\n  File \"c:\\Users\\bapti\\AppData\\Local\\Programs\\Python\\Python311\\Lib\\site-packages\\sklearn\\utils\\validation.py\", line 877, in check_array\n    array = _asarray_with_order(array, order=order, dtype=dtype, xp=xp)\n            ^^^^^^^^^^^^^^^^^^^^^^^^^^^^^^^^^^^^^^^^^^^^^^^^^^^^^^^^^^^\n  File \"c:\\Users\\bapti\\AppData\\Local\\Programs\\Python\\Python311\\Lib\\site-packages\\sklearn\\utils\\_array_api.py\", line 185, in _asarray_with_order\n    array = numpy.asarray(array, order=order, dtype=dtype)\n            ^^^^^^^^^^^^^^^^^^^^^^^^^^^^^^^^^^^^^^^^^^^^^^\nValueError: could not convert string to float: '308 SW'\n"
     ]
    }
   ],
   "source": [
    "en = ElasticNet()\n",
    "en_gs = GridSearchCV(\n",
    "    en,\n",
    "    {\n",
    "        \"alpha\": [2 ** p  for p in range(-6, 6)],\n",
    "        \"l1_ratio\": (0.01, 0.25, 0.5, 0.75, 1),\n",
    "    }\n",
    ")\n",
    "en_gs.fit(X_tr, y_tr)\n",
    "en_df = pd.DataFrame(en_gs.cv_results_)\n",
    "en_df.head()\n",
    "        "
   ]
  },
  {
   "cell_type": "code",
   "execution_count": 163,
   "metadata": {},
   "outputs": [
    {
     "name": "stdout",
     "output_type": "stream",
     "text": [
      "[['208' 'Essence' 8556 ... '1' 1510 5]\n",
      " ['RIFTER' 'Diesel' 51739 ... '2' 2135 5]\n",
      " ['208' 'Essence' 40071 ... '1' 1595 5]\n",
      " ...\n",
      " ['208' 'Diesel' 89636 ... '2' 1645 5]\n",
      " ['5008' 'Essence' 51474 ... '1' 2150 5]\n",
      " ['3008' 'Essence' 75611 ... '1' 1930 5]]\n"
     ]
    }
   ],
   "source": [
    "print(X)"
   ]
  },
  {
   "cell_type": "code",
   "execution_count": 180,
   "metadata": {},
   "outputs": [
    {
     "name": "stdout",
     "output_type": "stream",
     "text": [
      "[['308' 'Hybride rechargeable' 28000 ... '1' 2120 5]\n",
      " ['308 SW' 'Diesel' 2473 ... '2' 1920 5]\n",
      " ['3008' 'Diesel' 73499 ... '2' 1970 5]\n",
      " ...\n",
      " ['208' 'Essence' 8436 ... '1' 1625 5]\n",
      " ['3008' 'Essence' 33000 ... '1' 1940 5]\n",
      " ['2008' 'Essence' 22001 ... '1' 1752 5]]\n"
     ]
    }
   ],
   "source": [
    "print(X_tr)"
   ]
  },
  {
   "cell_type": "code",
   "execution_count": null,
   "metadata": {},
   "outputs": [],
   "source": []
  }
 ],
 "metadata": {
  "kernelspec": {
   "display_name": "Python 3",
   "language": "python",
   "name": "python3"
  },
  "language_info": {
   "codemirror_mode": {
    "name": "ipython",
    "version": 3
   },
   "file_extension": ".py",
   "mimetype": "text/x-python",
   "name": "python",
   "nbconvert_exporter": "python",
   "pygments_lexer": "ipython3",
   "version": "3.11.0"
  },
  "orig_nbformat": 4,
  "vscode": {
   "interpreter": {
    "hash": "bc4d059fad0795a90e9d9286858294b3f937681b877bee80077a453f32d3d946"
   }
  }
 },
 "nbformat": 4,
 "nbformat_minor": 2
}
